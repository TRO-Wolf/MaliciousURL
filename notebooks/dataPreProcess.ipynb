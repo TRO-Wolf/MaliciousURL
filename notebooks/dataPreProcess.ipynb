{
 "cells": [
  {
   "cell_type": "code",
   "execution_count": 8,
   "metadata": {},
   "outputs": [],
   "source": [
    "import pandas as pd\n",
    "import numpy as np\n",
    "import json\n",
    "import sys \n",
    "from sklearn.metrics import accuracy_score, precision_score, recall_score, f1_score\n",
    "from sklearn.model_selection import train_test_split\n",
    "import plotly.express as px\n",
    "import itertools\n",
    "import optuna\n",
    "from lightgbm import LGBMClassifier\n",
    "from sklearn.preprocessing import StandardScaler, MinMaxScaler\n",
    "\n",
    "from joblib import Parallel, delayed, dump, load\n",
    "# sys.path.insert(0, '../DevCode')\n",
    "\n",
    "\n",
    "pd.set_option('display.expand_frame_repr', False)\n",
    "pd.options.display.max_rows = 500\n",
    "sys.path.append('../src')\n",
    "import pickle"
   ]
  },
  {
   "cell_type": "markdown",
   "metadata": {},
   "source": [
    "<h2> Import custom created code for Tokenization of Data </h2>"
   ]
  },
  {
   "cell_type": "code",
   "execution_count": 9,
   "metadata": {},
   "outputs": [],
   "source": [
    "from DataManager import BetterTokenizer, Tokenizer\n",
    "tm = BetterTokenizer()"
   ]
  },
  {
   "cell_type": "code",
   "execution_count": 42,
   "metadata": {},
   "outputs": [],
   "source": [
    "df = pd.read_csv('../code/data/malicious_phish.csv')\n",
    "df = df.rename({'type':'target'},axis=1)"
   ]
  },
  {
   "cell_type": "markdown",
   "metadata": {},
   "source": [
    "<h2> Analyze the classification totals for our target variables<br>\n"
   ]
  },
  {
   "cell_type": "code",
   "execution_count": 43,
   "metadata": {},
   "outputs": [
    {
     "data": {
      "text/plain": [
       "benign        428103\n",
       "defacement     96457\n",
       "phishing       94111\n",
       "malware        32520\n",
       "Name: target, dtype: int64"
      ]
     },
     "execution_count": 43,
     "metadata": {},
     "output_type": "execute_result"
    }
   ],
   "source": [
    "df['target'].value_counts()"
   ]
  },
  {
   "cell_type": "markdown",
   "metadata": {},
   "source": [
    "<h2>I Selected the 70% mark for out data to isolate our training, validation and testing"
   ]
  },
  {
   "cell_type": "code",
   "execution_count": 44,
   "metadata": {},
   "outputs": [],
   "source": [
    "percent_70 = int(len(df) * 0.70)"
   ]
  },
  {
   "cell_type": "markdown",
   "metadata": {},
   "source": [
    "<h2> Here we can see an extreme concentration of Benign samples within <br>\n",
    " the original Training data"
   ]
  },
  {
   "cell_type": "code",
   "execution_count": 47,
   "metadata": {},
   "outputs": [
    {
     "data": {
      "text/plain": [
       "benign        333047\n",
       "defacement     84441\n",
       "phishing       27338\n",
       "malware        11007\n",
       "Name: target, dtype: int64"
      ]
     },
     "execution_count": 47,
     "metadata": {},
     "output_type": "execute_result"
    }
   ],
   "source": [
    "df.iloc[:percent_70]['target'].value_counts()"
   ]
  },
  {
   "cell_type": "markdown",
   "metadata": {},
   "source": [
    "<h2> Benign URL's make up over half of our data"
   ]
  },
  {
   "cell_type": "code",
   "execution_count": 48,
   "metadata": {},
   "outputs": [
    {
     "data": {
      "text/plain": [
       "0.5114428792781227"
      ]
     },
     "execution_count": 48,
     "metadata": {},
     "output_type": "execute_result"
    }
   ],
   "source": [
    "df.iloc[:percent_70]['target'].value_counts()['benign'] / int(len(df))"
   ]
  },
  {
   "cell_type": "code",
   "execution_count": 33,
   "metadata": {},
   "outputs": [
    {
     "data": {
      "text/plain": [
       "benign        95056\n",
       "phishing      66773\n",
       "malware       21513\n",
       "defacement    12016\n",
       "Name: target, dtype: int64"
      ]
     },
     "execution_count": 33,
     "metadata": {},
     "output_type": "execute_result"
    }
   ],
   "source": [
    "df.iloc[percent_70:]['target'].value_counts()"
   ]
  },
  {
   "cell_type": "code",
   "execution_count": null,
   "metadata": {},
   "outputs": [],
   "source": []
  },
  {
   "cell_type": "markdown",
   "metadata": {},
   "source": [
    "<h2> I decided to reverse the index for the data and re analyze"
   ]
  },
  {
   "cell_type": "code",
   "execution_count": 49,
   "metadata": {},
   "outputs": [],
   "source": [
    "df = df.sort_index(ascending=False)"
   ]
  },
  {
   "cell_type": "code",
   "execution_count": 36,
   "metadata": {},
   "outputs": [
    {
     "data": {
      "text/html": [
       "<div>\n",
       "<style scoped>\n",
       "    .dataframe tbody tr th:only-of-type {\n",
       "        vertical-align: middle;\n",
       "    }\n",
       "\n",
       "    .dataframe tbody tr th {\n",
       "        vertical-align: top;\n",
       "    }\n",
       "\n",
       "    .dataframe thead th {\n",
       "        text-align: right;\n",
       "    }\n",
       "</style>\n",
       "<table border=\"1\" class=\"dataframe\">\n",
       "  <thead>\n",
       "    <tr style=\"text-align: right;\">\n",
       "      <th></th>\n",
       "      <th>url</th>\n",
       "      <th>target</th>\n",
       "    </tr>\n",
       "  </thead>\n",
       "  <tbody>\n",
       "    <tr>\n",
       "      <th>651190</th>\n",
       "      <td>www.angelfire.com/goth/devilmaycrytonite/</td>\n",
       "      <td>phishing</td>\n",
       "    </tr>\n",
       "    <tr>\n",
       "      <th>651189</th>\n",
       "      <td>en.wikipedia.org/wiki/Dead_Space_(video_game)</td>\n",
       "      <td>phishing</td>\n",
       "    </tr>\n",
       "    <tr>\n",
       "      <th>651188</th>\n",
       "      <td>www.gamespot.com/xbox360/action/deadspace/</td>\n",
       "      <td>phishing</td>\n",
       "    </tr>\n",
       "    <tr>\n",
       "      <th>651187</th>\n",
       "      <td>games.teamxbox.com/xbox-360/1860/Dead-Space/</td>\n",
       "      <td>phishing</td>\n",
       "    </tr>\n",
       "    <tr>\n",
       "      <th>651186</th>\n",
       "      <td>xbox360.ign.com/objects/850/850402.html</td>\n",
       "      <td>phishing</td>\n",
       "    </tr>\n",
       "    <tr>\n",
       "      <th>...</th>\n",
       "      <td>...</td>\n",
       "      <td>...</td>\n",
       "    </tr>\n",
       "    <tr>\n",
       "      <th>4</th>\n",
       "      <td>http://adventure-nicaragua.net/index.php?optio...</td>\n",
       "      <td>defacement</td>\n",
       "    </tr>\n",
       "    <tr>\n",
       "      <th>3</th>\n",
       "      <td>http://www.garage-pirenne.be/index.php?option=...</td>\n",
       "      <td>defacement</td>\n",
       "    </tr>\n",
       "    <tr>\n",
       "      <th>2</th>\n",
       "      <td>bopsecrets.org/rexroth/cr/1.htm</td>\n",
       "      <td>benign</td>\n",
       "    </tr>\n",
       "    <tr>\n",
       "      <th>1</th>\n",
       "      <td>mp3raid.com/music/krizz_kaliko.html</td>\n",
       "      <td>benign</td>\n",
       "    </tr>\n",
       "    <tr>\n",
       "      <th>0</th>\n",
       "      <td>br-icloud.com.br</td>\n",
       "      <td>phishing</td>\n",
       "    </tr>\n",
       "  </tbody>\n",
       "</table>\n",
       "<p>651191 rows × 2 columns</p>\n",
       "</div>"
      ],
      "text/plain": [
       "                                                      url      target\n",
       "651190          www.angelfire.com/goth/devilmaycrytonite/    phishing\n",
       "651189      en.wikipedia.org/wiki/Dead_Space_(video_game)    phishing\n",
       "651188         www.gamespot.com/xbox360/action/deadspace/    phishing\n",
       "651187       games.teamxbox.com/xbox-360/1860/Dead-Space/    phishing\n",
       "651186            xbox360.ign.com/objects/850/850402.html    phishing\n",
       "...                                                   ...         ...\n",
       "4       http://adventure-nicaragua.net/index.php?optio...  defacement\n",
       "3       http://www.garage-pirenne.be/index.php?option=...  defacement\n",
       "2                         bopsecrets.org/rexroth/cr/1.htm      benign\n",
       "1                     mp3raid.com/music/krizz_kaliko.html      benign\n",
       "0                                        br-icloud.com.br    phishing\n",
       "\n",
       "[651191 rows x 2 columns]"
      ]
     },
     "execution_count": 36,
     "metadata": {},
     "output_type": "execute_result"
    }
   ],
   "source": [
    "df"
   ]
  },
  {
   "cell_type": "code",
   "execution_count": 50,
   "metadata": {},
   "outputs": [],
   "source": [
    "percent_70 = int(len(df) * 0.70)"
   ]
  },
  {
   "cell_type": "markdown",
   "metadata": {},
   "source": [
    "<h2> Here we can see that our data is split more evenly withint the training data"
   ]
  },
  {
   "cell_type": "code",
   "execution_count": 51,
   "metadata": {},
   "outputs": [
    {
     "data": {
      "text/plain": [
       "benign        285284\n",
       "phishing       82390\n",
       "defacement     60303\n",
       "malware        27856\n",
       "Name: target, dtype: int64"
      ]
     },
     "execution_count": 51,
     "metadata": {},
     "output_type": "execute_result"
    }
   ],
   "source": [
    "df.iloc[:percent_70]['target'].value_counts()"
   ]
  },
  {
   "cell_type": "markdown",
   "metadata": {},
   "source": [
    "<h2> After reversing the data, Benign samples only make up 43% of the data"
   ]
  },
  {
   "cell_type": "code",
   "execution_count": 53,
   "metadata": {},
   "outputs": [
    {
     "data": {
      "text/plain": [
       "0.43809573535260776"
      ]
     },
     "execution_count": 53,
     "metadata": {},
     "output_type": "execute_result"
    }
   ],
   "source": [
    "df.iloc[:percent_70]['target'].value_counts()['benign'] / int(len(df))"
   ]
  },
  {
   "cell_type": "code",
   "execution_count": 52,
   "metadata": {},
   "outputs": [
    {
     "data": {
      "text/plain": [
       "benign        142819\n",
       "defacement     36154\n",
       "phishing       11721\n",
       "malware         4664\n",
       "Name: target, dtype: int64"
      ]
     },
     "execution_count": 52,
     "metadata": {},
     "output_type": "execute_result"
    }
   ],
   "source": [
    "df.iloc[percent_70:]['target'].value_counts()"
   ]
  },
  {
   "cell_type": "markdown",
   "metadata": {},
   "source": [
    "<h2> Take each URL string and tokenize the data into integers </h2>"
   ]
  },
  {
   "cell_type": "code",
   "execution_count": 54,
   "metadata": {},
   "outputs": [],
   "source": [
    "tokenized_url = tm.tokenize_column(df['url'])"
   ]
  },
  {
   "cell_type": "markdown",
   "metadata": {},
   "source": [
    "<h2> Assign the Token Dictionary Objects to a Single Dictionary Object </h2>"
   ]
  },
  {
   "cell_type": "code",
   "execution_count": 55,
   "metadata": {},
   "outputs": [],
   "source": [
    "tokenizer_state = {\n",
    "    'token_to_id':tm.token_to_id,\n",
    "    'id_to_token':tm.id_to_token,\n",
    "}"
   ]
  },
  {
   "cell_type": "code",
   "execution_count": 7,
   "metadata": {},
   "outputs": [],
   "source": [
    "id_to = {int(k): v for k, v in tokenizer_state['id_to_token'].items()}"
   ]
  },
  {
   "cell_type": "markdown",
   "metadata": {},
   "source": [
    "<h2>Save the Tokenizer State Dictionary to a JSON object for later use</h2>"
   ]
  },
  {
   "cell_type": "code",
   "execution_count": 44,
   "metadata": {},
   "outputs": [],
   "source": [
    "with open('../code/data/token1.json', 'w') as f:\n",
    "    json.dump(tokenizer_state, f)"
   ]
  },
  {
   "cell_type": "markdown",
   "metadata": {},
   "source": [
    "<h2>Add the new tokenized data as a column to the dataframe </h2>"
   ]
  },
  {
   "cell_type": "code",
   "execution_count": 8,
   "metadata": {},
   "outputs": [],
   "source": [
    "df['tokens'] = tokenized_url"
   ]
  },
  {
   "cell_type": "code",
   "execution_count": 9,
   "metadata": {},
   "outputs": [
    {
     "data": {
      "text/html": [
       "<div>\n",
       "<style scoped>\n",
       "    .dataframe tbody tr th:only-of-type {\n",
       "        vertical-align: middle;\n",
       "    }\n",
       "\n",
       "    .dataframe tbody tr th {\n",
       "        vertical-align: top;\n",
       "    }\n",
       "\n",
       "    .dataframe thead th {\n",
       "        text-align: right;\n",
       "    }\n",
       "</style>\n",
       "<table border=\"1\" class=\"dataframe\">\n",
       "  <thead>\n",
       "    <tr style=\"text-align: right;\">\n",
       "      <th></th>\n",
       "      <th>url</th>\n",
       "      <th>target</th>\n",
       "      <th>tokens</th>\n",
       "    </tr>\n",
       "  </thead>\n",
       "  <tbody>\n",
       "    <tr>\n",
       "      <th>0</th>\n",
       "      <td>br-icloud.com.br</td>\n",
       "      <td>phishing</td>\n",
       "      <td>[1, 2, 3, 4, 5, 4, 1]</td>\n",
       "    </tr>\n",
       "    <tr>\n",
       "      <th>1</th>\n",
       "      <td>mp3raid.com/music/krizz_kaliko.html</td>\n",
       "      <td>benign</td>\n",
       "      <td>[6, 4, 5, 7, 8, 7, 9, 4, 10]</td>\n",
       "    </tr>\n",
       "    <tr>\n",
       "      <th>2</th>\n",
       "      <td>bopsecrets.org/rexroth/cr/1.htm</td>\n",
       "      <td>benign</td>\n",
       "      <td>[11, 4, 12, 7, 13, 7, 14, 7, 15, 4, 16]</td>\n",
       "    </tr>\n",
       "    <tr>\n",
       "      <th>3</th>\n",
       "      <td>http://www.garage-pirenne.be/index.php?option=...</td>\n",
       "      <td>defacement</td>\n",
       "      <td>[17, 18, 7, 7, 19, 4, 20, 2, 21, 4, 22, 7, 23,...</td>\n",
       "    </tr>\n",
       "    <tr>\n",
       "      <th>4</th>\n",
       "      <td>http://adventure-nicaragua.net/index.php?optio...</td>\n",
       "      <td>defacement</td>\n",
       "      <td>[17, 18, 7, 7, 36, 2, 37, 4, 38, 7, 23, 4, 24,...</td>\n",
       "    </tr>\n",
       "    <tr>\n",
       "      <th>...</th>\n",
       "      <td>...</td>\n",
       "      <td>...</td>\n",
       "      <td>...</td>\n",
       "    </tr>\n",
       "    <tr>\n",
       "      <th>651186</th>\n",
       "      <td>xbox360.ign.com/objects/850/850402.html</td>\n",
       "      <td>phishing</td>\n",
       "      <td>[62048, 4, 3247, 4, 5, 7, 3248, 7, 3758, 7, 62...</td>\n",
       "    </tr>\n",
       "    <tr>\n",
       "      <th>651187</th>\n",
       "      <td>games.teamxbox.com/xbox-360/1860/Dead-Space/</td>\n",
       "      <td>phishing</td>\n",
       "      <td>[2686, 4, 45660, 4, 5, 7, 23449, 2, 4843, 7, 1...</td>\n",
       "    </tr>\n",
       "    <tr>\n",
       "      <th>651188</th>\n",
       "      <td>www.gamespot.com/xbox360/action/deadspace/</td>\n",
       "      <td>phishing</td>\n",
       "      <td>[19, 4, 8613, 4, 5, 7, 62048, 7, 5920, 7, 4298...</td>\n",
       "    </tr>\n",
       "    <tr>\n",
       "      <th>651189</th>\n",
       "      <td>en.wikipedia.org/wiki/Dead_Space_(video_game)</td>\n",
       "      <td>phishing</td>\n",
       "      <td>[187, 4, 188, 4, 12, 7, 189, 7, 627327, 327, 3...</td>\n",
       "    </tr>\n",
       "    <tr>\n",
       "      <th>651190</th>\n",
       "      <td>www.angelfire.com/goth/devilmaycrytonite/</td>\n",
       "      <td>phishing</td>\n",
       "      <td>[19, 4, 15712, 4, 5, 7, 612669, 7, 627328, 7]</td>\n",
       "    </tr>\n",
       "  </tbody>\n",
       "</table>\n",
       "<p>651191 rows × 3 columns</p>\n",
       "</div>"
      ],
      "text/plain": [
       "                                                      url      target                                             tokens\n",
       "0                                        br-icloud.com.br    phishing                              [1, 2, 3, 4, 5, 4, 1]\n",
       "1                     mp3raid.com/music/krizz_kaliko.html      benign                       [6, 4, 5, 7, 8, 7, 9, 4, 10]\n",
       "2                         bopsecrets.org/rexroth/cr/1.htm      benign            [11, 4, 12, 7, 13, 7, 14, 7, 15, 4, 16]\n",
       "3       http://www.garage-pirenne.be/index.php?option=...  defacement  [17, 18, 7, 7, 19, 4, 20, 2, 21, 4, 22, 7, 23,...\n",
       "4       http://adventure-nicaragua.net/index.php?optio...  defacement  [17, 18, 7, 7, 36, 2, 37, 4, 38, 7, 23, 4, 24,...\n",
       "...                                                   ...         ...                                                ...\n",
       "651186            xbox360.ign.com/objects/850/850402.html    phishing  [62048, 4, 3247, 4, 5, 7, 3248, 7, 3758, 7, 62...\n",
       "651187       games.teamxbox.com/xbox-360/1860/Dead-Space/    phishing  [2686, 4, 45660, 4, 5, 7, 23449, 2, 4843, 7, 1...\n",
       "651188         www.gamespot.com/xbox360/action/deadspace/    phishing  [19, 4, 8613, 4, 5, 7, 62048, 7, 5920, 7, 4298...\n",
       "651189      en.wikipedia.org/wiki/Dead_Space_(video_game)    phishing  [187, 4, 188, 4, 12, 7, 189, 7, 627327, 327, 3...\n",
       "651190          www.angelfire.com/goth/devilmaycrytonite/    phishing      [19, 4, 15712, 4, 5, 7, 612669, 7, 627328, 7]\n",
       "\n",
       "[651191 rows x 3 columns]"
      ]
     },
     "execution_count": 9,
     "metadata": {},
     "output_type": "execute_result"
    }
   ],
   "source": [
    "df"
   ]
  },
  {
   "cell_type": "code",
   "execution_count": null,
   "metadata": {},
   "outputs": [],
   "source": []
  },
  {
   "cell_type": "code",
   "execution_count": 10,
   "metadata": {},
   "outputs": [],
   "source": [
    "#Drop original URL data\n",
    "df = df.drop(['url',],axis=1)"
   ]
  },
  {
   "cell_type": "code",
   "execution_count": 11,
   "metadata": {},
   "outputs": [
    {
     "data": {
      "text/html": [
       "<div>\n",
       "<style scoped>\n",
       "    .dataframe tbody tr th:only-of-type {\n",
       "        vertical-align: middle;\n",
       "    }\n",
       "\n",
       "    .dataframe tbody tr th {\n",
       "        vertical-align: top;\n",
       "    }\n",
       "\n",
       "    .dataframe thead th {\n",
       "        text-align: right;\n",
       "    }\n",
       "</style>\n",
       "<table border=\"1\" class=\"dataframe\">\n",
       "  <thead>\n",
       "    <tr style=\"text-align: right;\">\n",
       "      <th></th>\n",
       "      <th>target</th>\n",
       "      <th>tokens</th>\n",
       "    </tr>\n",
       "  </thead>\n",
       "  <tbody>\n",
       "    <tr>\n",
       "      <th>0</th>\n",
       "      <td>phishing</td>\n",
       "      <td>[1, 2, 3, 4, 5, 4, 1]</td>\n",
       "    </tr>\n",
       "    <tr>\n",
       "      <th>1</th>\n",
       "      <td>benign</td>\n",
       "      <td>[6, 4, 5, 7, 8, 7, 9, 4, 10]</td>\n",
       "    </tr>\n",
       "    <tr>\n",
       "      <th>2</th>\n",
       "      <td>benign</td>\n",
       "      <td>[11, 4, 12, 7, 13, 7, 14, 7, 15, 4, 16]</td>\n",
       "    </tr>\n",
       "    <tr>\n",
       "      <th>3</th>\n",
       "      <td>defacement</td>\n",
       "      <td>[17, 18, 7, 7, 19, 4, 20, 2, 21, 4, 22, 7, 23,...</td>\n",
       "    </tr>\n",
       "    <tr>\n",
       "      <th>4</th>\n",
       "      <td>defacement</td>\n",
       "      <td>[17, 18, 7, 7, 36, 2, 37, 4, 38, 7, 23, 4, 24,...</td>\n",
       "    </tr>\n",
       "    <tr>\n",
       "      <th>...</th>\n",
       "      <td>...</td>\n",
       "      <td>...</td>\n",
       "    </tr>\n",
       "    <tr>\n",
       "      <th>651186</th>\n",
       "      <td>phishing</td>\n",
       "      <td>[62048, 4, 3247, 4, 5, 7, 3248, 7, 3758, 7, 62...</td>\n",
       "    </tr>\n",
       "    <tr>\n",
       "      <th>651187</th>\n",
       "      <td>phishing</td>\n",
       "      <td>[2686, 4, 45660, 4, 5, 7, 23449, 2, 4843, 7, 1...</td>\n",
       "    </tr>\n",
       "    <tr>\n",
       "      <th>651188</th>\n",
       "      <td>phishing</td>\n",
       "      <td>[19, 4, 8613, 4, 5, 7, 62048, 7, 5920, 7, 4298...</td>\n",
       "    </tr>\n",
       "    <tr>\n",
       "      <th>651189</th>\n",
       "      <td>phishing</td>\n",
       "      <td>[187, 4, 188, 4, 12, 7, 189, 7, 627327, 327, 3...</td>\n",
       "    </tr>\n",
       "    <tr>\n",
       "      <th>651190</th>\n",
       "      <td>phishing</td>\n",
       "      <td>[19, 4, 15712, 4, 5, 7, 612669, 7, 627328, 7]</td>\n",
       "    </tr>\n",
       "  </tbody>\n",
       "</table>\n",
       "<p>651191 rows × 2 columns</p>\n",
       "</div>"
      ],
      "text/plain": [
       "            target                                             tokens\n",
       "0         phishing                              [1, 2, 3, 4, 5, 4, 1]\n",
       "1           benign                       [6, 4, 5, 7, 8, 7, 9, 4, 10]\n",
       "2           benign            [11, 4, 12, 7, 13, 7, 14, 7, 15, 4, 16]\n",
       "3       defacement  [17, 18, 7, 7, 19, 4, 20, 2, 21, 4, 22, 7, 23,...\n",
       "4       defacement  [17, 18, 7, 7, 36, 2, 37, 4, 38, 7, 23, 4, 24,...\n",
       "...            ...                                                ...\n",
       "651186    phishing  [62048, 4, 3247, 4, 5, 7, 3248, 7, 3758, 7, 62...\n",
       "651187    phishing  [2686, 4, 45660, 4, 5, 7, 23449, 2, 4843, 7, 1...\n",
       "651188    phishing  [19, 4, 8613, 4, 5, 7, 62048, 7, 5920, 7, 4298...\n",
       "651189    phishing  [187, 4, 188, 4, 12, 7, 189, 7, 627327, 327, 3...\n",
       "651190    phishing      [19, 4, 15712, 4, 5, 7, 612669, 7, 627328, 7]\n",
       "\n",
       "[651191 rows x 2 columns]"
      ]
     },
     "execution_count": 11,
     "metadata": {},
     "output_type": "execute_result"
    }
   ],
   "source": [
    "df"
   ]
  },
  {
   "cell_type": "code",
   "execution_count": 12,
   "metadata": {},
   "outputs": [
    {
     "data": {
      "text/plain": [
       "0                                     [1, 2, 3, 4, 5, 4, 1]\n",
       "1                              [6, 4, 5, 7, 8, 7, 9, 4, 10]\n",
       "2                   [11, 4, 12, 7, 13, 7, 14, 7, 15, 4, 16]\n",
       "3         [17, 18, 7, 7, 19, 4, 20, 2, 21, 4, 22, 7, 23,...\n",
       "4         [17, 18, 7, 7, 36, 2, 37, 4, 38, 7, 23, 4, 24,...\n",
       "                                ...                        \n",
       "651186    [62048, 4, 3247, 4, 5, 7, 3248, 7, 3758, 7, 62...\n",
       "651187    [2686, 4, 45660, 4, 5, 7, 23449, 2, 4843, 7, 1...\n",
       "651188    [19, 4, 8613, 4, 5, 7, 62048, 7, 5920, 7, 4298...\n",
       "651189    [187, 4, 188, 4, 12, 7, 189, 7, 627327, 327, 3...\n",
       "651190        [19, 4, 15712, 4, 5, 7, 612669, 7, 627328, 7]\n",
       "Name: tokens, Length: 651191, dtype: object"
      ]
     },
     "execution_count": 12,
     "metadata": {},
     "output_type": "execute_result"
    }
   ],
   "source": [
    "df['tokens']"
   ]
  },
  {
   "cell_type": "markdown",
   "metadata": {},
   "source": [
    "<h2> Create a new column to evaluate how many tokens are within each vector </h2>"
   ]
  },
  {
   "cell_type": "code",
   "execution_count": 13,
   "metadata": {},
   "outputs": [],
   "source": [
    "df['sizes'] = [len(i) for i in df['tokens']]"
   ]
  },
  {
   "cell_type": "code",
   "execution_count": 14,
   "metadata": {},
   "outputs": [
    {
     "data": {
      "text/plain": [
       "9      65752\n",
       "11     52063\n",
       "13     47651\n",
       "17     40627\n",
       "15     40475\n",
       "7      30020\n",
       "4      27825\n",
       "8      22479\n",
       "19     22316\n",
       "6      19287\n",
       "5      19248\n",
       "10     17376\n",
       "21     17272\n",
       "23     15819\n",
       "12     14892\n",
       "27     14257\n",
       "25     13942\n",
       "29     13415\n",
       "31     13166\n",
       "3      10955\n",
       "14      9602\n",
       "33      9520\n",
       "16      8188\n",
       "35      7031\n",
       "37      6152\n",
       "18      5803\n",
       "39      5525\n",
       "41      4862\n",
       "20      4770\n",
       "28      4190\n",
       "24      4187\n",
       "22      4106\n",
       "32      3979\n",
       "26      3880\n",
       "43      3591\n",
       "34      3577\n",
       "30      3567\n",
       "36      3264\n",
       "45      3008\n",
       "38      2549\n",
       "44      2437\n",
       "51      2264\n",
       "47      2068\n",
       "40      1942\n",
       "42      1654\n",
       "57      1528\n",
       "49      1440\n",
       "63      1266\n",
       "46      1163\n",
       "52      1151\n",
       "48      1085\n",
       "53      1048\n",
       "55      1043\n",
       "50      1034\n",
       "54       962\n",
       "56       902\n",
       "58       679\n",
       "60       593\n",
       "59       553\n",
       "62       344\n",
       "61       301\n",
       "64       285\n",
       "66       200\n",
       "65       189\n",
       "76       162\n",
       "89       157\n",
       "69       157\n",
       "68       156\n",
       "70       140\n",
       "67       128\n",
       "71       128\n",
       "72       125\n",
       "77       104\n",
       "84        93\n",
       "74        92\n",
       "95        86\n",
       "81        78\n",
       "75        78\n",
       "146       71\n",
       "83        70\n",
       "73        69\n",
       "78        67\n",
       "101       64\n",
       "88        63\n",
       "80        63\n",
       "91        63\n",
       "140       63\n",
       "82        63\n",
       "86        60\n",
       "107       58\n",
       "105       58\n",
       "79        52\n",
       "152       51\n",
       "147       50\n",
       "92        49\n",
       "113       49\n",
       "94        45\n",
       "134       45\n",
       "93        45\n",
       "85        44\n",
       "176       43\n",
       "97        43\n",
       "148       42\n",
       "158       41\n",
       "87        40\n",
       "170       39\n",
       "96        38\n",
       "102       36\n",
       "98        35\n",
       "122       35\n",
       "106       33\n",
       "100       31\n",
       "118       31\n",
       "119       31\n",
       "145       31\n",
       "164       30\n",
       "182       30\n",
       "108       30\n",
       "104       28\n",
       "90        28\n",
       "116       27\n",
       "141       27\n",
       "125       26\n",
       "126       25\n",
       "117       25\n",
       "99        25\n",
       "109       24\n",
       "110       23\n",
       "159       22\n",
       "114       22\n",
       "188       22\n",
       "120       22\n",
       "128       21\n",
       "200       21\n",
       "131       21\n",
       "142       20\n",
       "103       19\n",
       "165       19\n",
       "112       19\n",
       "123       18\n",
       "206       16\n",
       "171       16\n",
       "130       16\n",
       "137       16\n",
       "143       15\n",
       "139       15\n",
       "224       15\n",
       "127       15\n",
       "194       15\n",
       "124       15\n",
       "154       14\n",
       "212       14\n",
       "144       14\n",
       "111       14\n",
       "218       14\n",
       "136       13\n",
       "236       13\n",
       "150       13\n",
       "135       13\n",
       "115       12\n",
       "149       12\n",
       "132       12\n",
       "168       12\n",
       "183       12\n",
       "138       12\n",
       "177       11\n",
       "151       11\n",
       "153       11\n",
       "121       10\n",
       "167       10\n",
       "185        9\n",
       "161        9\n",
       "163        9\n",
       "169        9\n",
       "201        9\n",
       "197        9\n",
       "166        8\n",
       "241        8\n",
       "155        8\n",
       "179        7\n",
       "226        7\n",
       "162        7\n",
       "254        7\n",
       "160        7\n",
       "193        7\n",
       "156        7\n",
       "186        7\n",
       "189        6\n",
       "214        6\n",
       "178        6\n",
       "192        6\n",
       "219        5\n",
       "248        5\n",
       "239        5\n",
       "172        5\n",
       "173        5\n",
       "230        5\n",
       "195        5\n",
       "209        5\n",
       "229        5\n",
       "133        5\n",
       "180        5\n",
       "220        5\n",
       "129        5\n",
       "190        5\n",
       "211        5\n",
       "157        4\n",
       "207        4\n",
       "175        4\n",
       "198        4\n",
       "213        4\n",
       "1          4\n",
       "204        4\n",
       "184        4\n",
       "174        4\n",
       "250        4\n",
       "222        4\n",
       "216        4\n",
       "181        4\n",
       "252        4\n",
       "317        3\n",
       "267        3\n",
       "187        3\n",
       "196        3\n",
       "202        3\n",
       "256        3\n",
       "238        3\n",
       "205        3\n",
       "221        3\n",
       "228        3\n",
       "217        2\n",
       "258        2\n",
       "215        2\n",
       "232        2\n",
       "253        2\n",
       "246        2\n",
       "264        2\n",
       "231        2\n",
       "244        2\n",
       "208        2\n",
       "210        2\n",
       "285        2\n",
       "260        2\n",
       "505        1\n",
       "582        1\n",
       "295        1\n",
       "249        1\n",
       "286        1\n",
       "320        1\n",
       "328        1\n",
       "331        1\n",
       "225        1\n",
       "203        1\n",
       "240        1\n",
       "274        1\n",
       "333        1\n",
       "255        1\n",
       "273        1\n",
       "245        1\n",
       "242        1\n",
       "266        1\n",
       "276        1\n",
       "292        1\n",
       "412        1\n",
       "251        1\n",
       "302        1\n",
       "233        1\n",
       "268        1\n",
       "235        1\n",
       "257        1\n",
       "278        1\n",
       "319        1\n",
       "199        1\n",
       "326        1\n",
       "191        1\n",
       "265        1\n",
       "263        1\n",
       "243        1\n",
       "307        1\n",
       "363        1\n",
       "Name: sizes, dtype: int64"
      ]
     },
     "execution_count": 14,
     "metadata": {},
     "output_type": "execute_result"
    }
   ],
   "source": [
    "df['sizes'].value_counts()"
   ]
  },
  {
   "cell_type": "markdown",
   "metadata": {},
   "source": [
    "<h2> Here we clip the outlier data to reduce the training size and eliminate non effective data </h2>"
   ]
  },
  {
   "cell_type": "code",
   "execution_count": 15,
   "metadata": {},
   "outputs": [],
   "source": [
    "mean = df['sizes'].mean()\n",
    "std = df['sizes'].std()\n",
    "clipped_data = df[(df['sizes'] >= (mean - 2*std)) & (df['sizes'] <= (mean + 2*std))]\n",
    "data = df.loc[clipped_data.index]\n",
    "targets_df = df['target'].loc[clipped_data.index]"
   ]
  },
  {
   "cell_type": "markdown",
   "metadata": {},
   "source": [
    "<h2> Here we loop through each value in the tokens column an begin padding the data to match the size of the largest vector </h2>"
   ]
  },
  {
   "cell_type": "code",
   "execution_count": 16,
   "metadata": {},
   "outputs": [],
   "source": [
    "max_length = 0\n",
    "\n",
    "for i in data['tokens'].values:\n",
    "    if len(i) > max_length:\n",
    "        max_length = len(i)\n",
    "vector_data = [np.array(i) for i in data['tokens'].values]"
   ]
  },
  {
   "cell_type": "markdown",
   "metadata": {},
   "source": [
    "<h2> Here we create a matrix of our padded and tokenized data </h2>"
   ]
  },
  {
   "cell_type": "code",
   "execution_count": 17,
   "metadata": {},
   "outputs": [],
   "source": [
    "matrix_list = []\n",
    "for i in vector_data:\n",
    "    new_vector = np.zeros(max_length)\n",
    "    current_vector_size = i.shape[0]\n",
    "    new_vector[:current_vector_size] = i\n",
    "    matrix_list.append(new_vector)\n",
    "\n",
    "matrix_main = np.vstack(matrix_list)"
   ]
  },
  {
   "cell_type": "code",
   "execution_count": 18,
   "metadata": {},
   "outputs": [
    {
     "data": {
      "text/plain": [
       "array([1., 2., 3., 4., 5., 4., 1., 0., 0., 0., 0., 0., 0., 0., 0., 0., 0.,\n",
       "       0., 0., 0., 0., 0., 0., 0., 0., 0., 0., 0., 0., 0., 0., 0., 0., 0.,\n",
       "       0., 0., 0., 0., 0., 0., 0., 0., 0., 0., 0., 0., 0.])"
      ]
     },
     "execution_count": 18,
     "metadata": {},
     "output_type": "execute_result"
    }
   ],
   "source": [
    "matrix_main[0]"
   ]
  },
  {
   "cell_type": "markdown",
   "metadata": {},
   "source": [
    "<h2> Assigning integer values to each specific target type and assigning that as a column to the dataframe</h2>"
   ]
  },
  {
   "cell_type": "code",
   "execution_count": 19,
   "metadata": {},
   "outputs": [],
   "source": [
    "target_list = []\n",
    "target_key_values = {\n",
    "    'benign':0,\n",
    "    'phishing':1,\n",
    "    'defacement':2,\n",
    "    'malware':3\n",
    "}\n",
    "for i in targets_df.values:\n",
    "    if i == 'benign':\n",
    "        target_list.append(0)\n",
    "    elif i == 'phishing':\n",
    "        target_list.append(1)\n",
    "    elif i == 'defacement':\n",
    "        target_list.append(2)\n",
    "    else:\n",
    "        target_list.append(3)\n",
    "data['target'] = target_list"
   ]
  },
  {
   "cell_type": "code",
   "execution_count": 20,
   "metadata": {},
   "outputs": [],
   "source": [
    "target_key_values = {\n",
    "    'benign':0,\n",
    "    'phishing':1,\n",
    "    'defacement':2,\n",
    "    'malware':3\n",
    "}"
   ]
  },
  {
   "cell_type": "code",
   "execution_count": 21,
   "metadata": {},
   "outputs": [],
   "source": [
    "int_to_label = {value: key for key, value in target_key_values.items()}"
   ]
  },
  {
   "cell_type": "code",
   "execution_count": 56,
   "metadata": {},
   "outputs": [
    {
     "data": {
      "text/plain": [
       "'phishing'"
      ]
     },
     "execution_count": 56,
     "metadata": {},
     "output_type": "execute_result"
    }
   ],
   "source": [
    "int_to_label.get(1)"
   ]
  },
  {
   "cell_type": "code",
   "execution_count": 22,
   "metadata": {},
   "outputs": [
    {
     "data": {
      "text/html": [
       "<div>\n",
       "<style scoped>\n",
       "    .dataframe tbody tr th:only-of-type {\n",
       "        vertical-align: middle;\n",
       "    }\n",
       "\n",
       "    .dataframe tbody tr th {\n",
       "        vertical-align: top;\n",
       "    }\n",
       "\n",
       "    .dataframe thead th {\n",
       "        text-align: right;\n",
       "    }\n",
       "</style>\n",
       "<table border=\"1\" class=\"dataframe\">\n",
       "  <thead>\n",
       "    <tr style=\"text-align: right;\">\n",
       "      <th></th>\n",
       "      <th>target</th>\n",
       "      <th>tokens</th>\n",
       "      <th>sizes</th>\n",
       "    </tr>\n",
       "  </thead>\n",
       "  <tbody>\n",
       "    <tr>\n",
       "      <th>0</th>\n",
       "      <td>1</td>\n",
       "      <td>[1, 2, 3, 4, 5, 4, 1]</td>\n",
       "      <td>7</td>\n",
       "    </tr>\n",
       "    <tr>\n",
       "      <th>1</th>\n",
       "      <td>0</td>\n",
       "      <td>[6, 4, 5, 7, 8, 7, 9, 4, 10]</td>\n",
       "      <td>9</td>\n",
       "    </tr>\n",
       "    <tr>\n",
       "      <th>2</th>\n",
       "      <td>0</td>\n",
       "      <td>[11, 4, 12, 7, 13, 7, 14, 7, 15, 4, 16]</td>\n",
       "      <td>11</td>\n",
       "    </tr>\n",
       "    <tr>\n",
       "      <th>3</th>\n",
       "      <td>2</td>\n",
       "      <td>[17, 18, 7, 7, 19, 4, 20, 2, 21, 4, 22, 7, 23,...</td>\n",
       "      <td>31</td>\n",
       "    </tr>\n",
       "    <tr>\n",
       "      <th>4</th>\n",
       "      <td>2</td>\n",
       "      <td>[17, 18, 7, 7, 36, 2, 37, 4, 38, 7, 23, 4, 24,...</td>\n",
       "      <td>25</td>\n",
       "    </tr>\n",
       "    <tr>\n",
       "      <th>...</th>\n",
       "      <td>...</td>\n",
       "      <td>...</td>\n",
       "      <td>...</td>\n",
       "    </tr>\n",
       "    <tr>\n",
       "      <th>651186</th>\n",
       "      <td>1</td>\n",
       "      <td>[62048, 4, 3247, 4, 5, 7, 3248, 7, 3758, 7, 62...</td>\n",
       "      <td>13</td>\n",
       "    </tr>\n",
       "    <tr>\n",
       "      <th>651187</th>\n",
       "      <td>1</td>\n",
       "      <td>[2686, 4, 45660, 4, 5, 7, 23449, 2, 4843, 7, 1...</td>\n",
       "      <td>16</td>\n",
       "    </tr>\n",
       "    <tr>\n",
       "      <th>651188</th>\n",
       "      <td>1</td>\n",
       "      <td>[19, 4, 8613, 4, 5, 7, 62048, 7, 5920, 7, 4298...</td>\n",
       "      <td>12</td>\n",
       "    </tr>\n",
       "    <tr>\n",
       "      <th>651189</th>\n",
       "      <td>1</td>\n",
       "      <td>[187, 4, 188, 4, 12, 7, 189, 7, 627327, 327, 3...</td>\n",
       "      <td>12</td>\n",
       "    </tr>\n",
       "    <tr>\n",
       "      <th>651190</th>\n",
       "      <td>1</td>\n",
       "      <td>[19, 4, 15712, 4, 5, 7, 612669, 7, 627328, 7]</td>\n",
       "      <td>10</td>\n",
       "    </tr>\n",
       "  </tbody>\n",
       "</table>\n",
       "<p>629456 rows × 3 columns</p>\n",
       "</div>"
      ],
      "text/plain": [
       "        target                                             tokens  sizes\n",
       "0            1                              [1, 2, 3, 4, 5, 4, 1]      7\n",
       "1            0                       [6, 4, 5, 7, 8, 7, 9, 4, 10]      9\n",
       "2            0            [11, 4, 12, 7, 13, 7, 14, 7, 15, 4, 16]     11\n",
       "3            2  [17, 18, 7, 7, 19, 4, 20, 2, 21, 4, 22, 7, 23,...     31\n",
       "4            2  [17, 18, 7, 7, 36, 2, 37, 4, 38, 7, 23, 4, 24,...     25\n",
       "...        ...                                                ...    ...\n",
       "651186       1  [62048, 4, 3247, 4, 5, 7, 3248, 7, 3758, 7, 62...     13\n",
       "651187       1  [2686, 4, 45660, 4, 5, 7, 23449, 2, 4843, 7, 1...     16\n",
       "651188       1  [19, 4, 8613, 4, 5, 7, 62048, 7, 5920, 7, 4298...     12\n",
       "651189       1  [187, 4, 188, 4, 12, 7, 189, 7, 627327, 327, 3...     12\n",
       "651190       1      [19, 4, 15712, 4, 5, 7, 612669, 7, 627328, 7]     10\n",
       "\n",
       "[629456 rows x 3 columns]"
      ]
     },
     "execution_count": 22,
     "metadata": {},
     "output_type": "execute_result"
    }
   ],
   "source": [
    "data"
   ]
  },
  {
   "cell_type": "markdown",
   "metadata": {},
   "source": [
    "<h2> \n",
    "-Create our target vector <br>\n",
    "-Find the total length of the matrix <br>\n",
    "-Determine the 70% mark based on the total length, this will be our Training data\n",
    "</h2>"
   ]
  },
  {
   "cell_type": "code",
   "execution_count": 16,
   "metadata": {},
   "outputs": [],
   "source": [
    "targets_vector = np.array(target_list)\n",
    "total_length = int(matrix_main.shape[0])\n",
    "ap = int(matrix_main.shape[0] * 0.7)"
   ]
  },
  {
   "cell_type": "code",
   "execution_count": 28,
   "metadata": {},
   "outputs": [
    {
     "data": {
      "text/plain": [
       "440619"
      ]
     },
     "execution_count": 28,
     "metadata": {},
     "output_type": "execute_result"
    }
   ],
   "source": [
    "ap"
   ]
  },
  {
   "cell_type": "code",
   "execution_count": 29,
   "metadata": {},
   "outputs": [
    {
     "data": {
      "text/html": [
       "<div>\n",
       "<style scoped>\n",
       "    .dataframe tbody tr th:only-of-type {\n",
       "        vertical-align: middle;\n",
       "    }\n",
       "\n",
       "    .dataframe tbody tr th {\n",
       "        vertical-align: top;\n",
       "    }\n",
       "\n",
       "    .dataframe thead th {\n",
       "        text-align: right;\n",
       "    }\n",
       "</style>\n",
       "<table border=\"1\" class=\"dataframe\">\n",
       "  <thead>\n",
       "    <tr style=\"text-align: right;\">\n",
       "      <th></th>\n",
       "      <th>target</th>\n",
       "      <th>tokens</th>\n",
       "      <th>sizes</th>\n",
       "    </tr>\n",
       "  </thead>\n",
       "  <tbody>\n",
       "    <tr>\n",
       "      <th>0</th>\n",
       "      <td>1</td>\n",
       "      <td>[1, 2, 3, 4, 5, 4, 1]</td>\n",
       "      <td>7</td>\n",
       "    </tr>\n",
       "    <tr>\n",
       "      <th>1</th>\n",
       "      <td>0</td>\n",
       "      <td>[6, 4, 5, 7, 8, 7, 9, 4, 10]</td>\n",
       "      <td>9</td>\n",
       "    </tr>\n",
       "    <tr>\n",
       "      <th>2</th>\n",
       "      <td>0</td>\n",
       "      <td>[11, 4, 12, 7, 13, 7, 14, 7, 15, 4, 16]</td>\n",
       "      <td>11</td>\n",
       "    </tr>\n",
       "    <tr>\n",
       "      <th>3</th>\n",
       "      <td>2</td>\n",
       "      <td>[17, 18, 7, 7, 19, 4, 20, 2, 21, 4, 22, 7, 23,...</td>\n",
       "      <td>31</td>\n",
       "    </tr>\n",
       "    <tr>\n",
       "      <th>4</th>\n",
       "      <td>2</td>\n",
       "      <td>[17, 18, 7, 7, 36, 2, 37, 4, 38, 7, 23, 4, 24,...</td>\n",
       "      <td>25</td>\n",
       "    </tr>\n",
       "    <tr>\n",
       "      <th>...</th>\n",
       "      <td>...</td>\n",
       "      <td>...</td>\n",
       "      <td>...</td>\n",
       "    </tr>\n",
       "    <tr>\n",
       "      <th>651186</th>\n",
       "      <td>1</td>\n",
       "      <td>[62048, 4, 3247, 4, 5, 7, 3248, 7, 3758, 7, 62...</td>\n",
       "      <td>13</td>\n",
       "    </tr>\n",
       "    <tr>\n",
       "      <th>651187</th>\n",
       "      <td>1</td>\n",
       "      <td>[2686, 4, 45660, 4, 5, 7, 23449, 2, 4843, 7, 1...</td>\n",
       "      <td>16</td>\n",
       "    </tr>\n",
       "    <tr>\n",
       "      <th>651188</th>\n",
       "      <td>1</td>\n",
       "      <td>[19, 4, 8613, 4, 5, 7, 62048, 7, 5920, 7, 4298...</td>\n",
       "      <td>12</td>\n",
       "    </tr>\n",
       "    <tr>\n",
       "      <th>651189</th>\n",
       "      <td>1</td>\n",
       "      <td>[187, 4, 188, 4, 12, 7, 189, 7, 627327, 327, 3...</td>\n",
       "      <td>12</td>\n",
       "    </tr>\n",
       "    <tr>\n",
       "      <th>651190</th>\n",
       "      <td>1</td>\n",
       "      <td>[19, 4, 15712, 4, 5, 7, 612669, 7, 627328, 7]</td>\n",
       "      <td>10</td>\n",
       "    </tr>\n",
       "  </tbody>\n",
       "</table>\n",
       "<p>629456 rows × 3 columns</p>\n",
       "</div>"
      ],
      "text/plain": [
       "        target                                             tokens  sizes\n",
       "0            1                              [1, 2, 3, 4, 5, 4, 1]      7\n",
       "1            0                       [6, 4, 5, 7, 8, 7, 9, 4, 10]      9\n",
       "2            0            [11, 4, 12, 7, 13, 7, 14, 7, 15, 4, 16]     11\n",
       "3            2  [17, 18, 7, 7, 19, 4, 20, 2, 21, 4, 22, 7, 23,...     31\n",
       "4            2  [17, 18, 7, 7, 36, 2, 37, 4, 38, 7, 23, 4, 24,...     25\n",
       "...        ...                                                ...    ...\n",
       "651186       1  [62048, 4, 3247, 4, 5, 7, 3248, 7, 3758, 7, 62...     13\n",
       "651187       1  [2686, 4, 45660, 4, 5, 7, 23449, 2, 4843, 7, 1...     16\n",
       "651188       1  [19, 4, 8613, 4, 5, 7, 62048, 7, 5920, 7, 4298...     12\n",
       "651189       1  [187, 4, 188, 4, 12, 7, 189, 7, 627327, 327, 3...     12\n",
       "651190       1      [19, 4, 15712, 4, 5, 7, 612669, 7, 627328, 7]     10\n",
       "\n",
       "[629456 rows x 3 columns]"
      ]
     },
     "execution_count": 29,
     "metadata": {},
     "output_type": "execute_result"
    }
   ],
   "source": [
    "data"
   ]
  },
  {
   "cell_type": "markdown",
   "metadata": {},
   "source": [
    "<h2> "
   ]
  },
  {
   "cell_type": "markdown",
   "metadata": {},
   "source": [
    "<h2> Take 15% of the remaining data to use as the Validation Data </h2>"
   ]
  },
  {
   "cell_type": "code",
   "execution_count": 17,
   "metadata": {},
   "outputs": [],
   "source": [
    "valid_test_length = int((total_length - ap) / 2)"
   ]
  },
  {
   "cell_type": "code",
   "execution_count": 18,
   "metadata": {},
   "outputs": [
    {
     "data": {
      "text/plain": [
       "535037"
      ]
     },
     "execution_count": 18,
     "metadata": {},
     "output_type": "execute_result"
    }
   ],
   "source": [
    "valid_size = ap + valid_test_length\n",
    "valid_size"
   ]
  },
  {
   "cell_type": "code",
   "execution_count": 32,
   "metadata": {},
   "outputs": [
    {
     "data": {
      "text/plain": [
       "(629456, 47)"
      ]
     },
     "execution_count": 32,
     "metadata": {},
     "output_type": "execute_result"
    }
   ],
   "source": [
    "matrix_main.shape"
   ]
  },
  {
   "cell_type": "markdown",
   "metadata": {},
   "source": [
    "<h2> Split the data into our tuples, each containing the data and its label </h2>"
   ]
  },
  {
   "cell_type": "code",
   "execution_count": null,
   "metadata": {},
   "outputs": [],
   "source": []
  },
  {
   "cell_type": "code",
   "execution_count": 61,
   "metadata": {},
   "outputs": [],
   "source": [
    "\n",
    "train = (matrix_main[:ap], targets_vector[:ap])\n",
    "\n",
    "valid = (matrix_main[ap: valid_size], targets_vector[ap: valid_size])\n",
    "\n",
    "\n",
    "test = (matrix_main[valid_size : ], targets_vector[valid_size : ])"
   ]
  },
  {
   "cell_type": "markdown",
   "metadata": {},
   "source": [
    "<h2> Save and Compress our data to numpy matrices to save space"
   ]
  },
  {
   "cell_type": "code",
   "execution_count": null,
   "metadata": {},
   "outputs": [],
   "source": [
    "np.savez_compressed('../code/data/train_features.npz', a=train[0])\n",
    "np.savez_compressed('../code/data/train_labels.npz', a=train[1])\n",
    "\n",
    "np.savez_compressed('../code/data/valid_features.npz', a=valid[0])\n",
    "np.savez_compressed('../code/data/valid_labels.npz', a=valid[1])\n",
    "\n",
    "np.savez_compressed('../code/data/test_features.npz', a=test[0])\n",
    "np.savez_compressed('../code/data/test_labels.npz', a=test[1])"
   ]
  },
  {
   "cell_type": "markdown",
   "metadata": {},
   "source": [
    "<h2> Validate that we have a good distribution of samples"
   ]
  },
  {
   "cell_type": "code",
   "execution_count": 45,
   "metadata": {},
   "outputs": [
    {
     "data": {
      "text/plain": [
       "0    277261\n",
       "1     81041\n",
       "2     56635\n",
       "3     25682\n",
       "Name: target, dtype: int64"
      ]
     },
     "execution_count": 45,
     "metadata": {},
     "output_type": "execute_result"
    }
   ],
   "source": [
    "data[:ap]['target'].value_counts()"
   ]
  },
  {
   "cell_type": "code",
   "execution_count": 46,
   "metadata": {},
   "outputs": [
    {
     "data": {
      "text/plain": [
       "0    69846\n",
       "2    17077\n",
       "1     5802\n",
       "3     1693\n",
       "Name: target, dtype: int64"
      ]
     },
     "execution_count": 46,
     "metadata": {},
     "output_type": "execute_result"
    }
   ],
   "source": [
    "data[ap: valid_size]['target'].value_counts()"
   ]
  },
  {
   "cell_type": "code",
   "execution_count": 47,
   "metadata": {},
   "outputs": [
    {
     "data": {
      "text/plain": [
       "0    70216\n",
       "2    16808\n",
       "1     5670\n",
       "3     1725\n",
       "Name: target, dtype: int64"
      ]
     },
     "execution_count": 47,
     "metadata": {},
     "output_type": "execute_result"
    }
   ],
   "source": [
    "data[valid_size:]['target'].value_counts()"
   ]
  },
  {
   "cell_type": "code",
   "execution_count": null,
   "metadata": {},
   "outputs": [],
   "source": []
  },
  {
   "cell_type": "markdown",
   "metadata": {},
   "source": [
    "<h2> Scale our Data between 0 and 1 for our LSTM Model"
   ]
  },
  {
   "cell_type": "code",
   "execution_count": null,
   "metadata": {},
   "outputs": [],
   "source": [
    "scaler = MinMaxScaler(feature_range=(0,1))"
   ]
  },
  {
   "cell_type": "code",
   "execution_count": null,
   "metadata": {},
   "outputs": [],
   "source": [
    "scaled_matrix = scaler.fit_transform(matrix_main)"
   ]
  },
  {
   "cell_type": "code",
   "execution_count": 37,
   "metadata": {},
   "outputs": [],
   "source": [
    "\n",
    "scaled_train = (scaled_matrix[:ap], targets_vector[:ap])\n",
    "\n",
    "scaled_valid = (scaled_matrix[ap: valid_size], targets_vector[ap: valid_size])\n",
    "\n",
    "\n",
    "scaled_test = (scaled_matrix[valid_size : ], targets_vector[valid_size : ])"
   ]
  },
  {
   "cell_type": "markdown",
   "metadata": {},
   "source": [
    "<h2> Save and Compress our data to numpy matrices to save space"
   ]
  },
  {
   "cell_type": "code",
   "execution_count": null,
   "metadata": {},
   "outputs": [],
   "source": [
    "np.savez_compressed('../code/data/scaled_train_features.npz', a=scaled_train[0])\n",
    "np.savez_compressed('../code/data/scaled_train_labels.npz', a=scaled_train[1])"
   ]
  },
  {
   "cell_type": "code",
   "execution_count": null,
   "metadata": {},
   "outputs": [],
   "source": [
    "np.savez_compressed('../code/data/scaled_valid_features.npz', a=scaled_valid[0])\n",
    "np.savez_compressed('../code/data/scaled_valid_labels.npz', a=scaled_valid[1])"
   ]
  },
  {
   "cell_type": "code",
   "execution_count": null,
   "metadata": {},
   "outputs": [],
   "source": [
    "np.savez_compressed('../code/data/scaled_test_features.npz', a=scaled_test[0])\n",
    "np.savez_compressed('../code/data/scaled_test_labels.npz', a=scaled_test[1])"
   ]
  },
  {
   "cell_type": "code",
   "execution_count": null,
   "metadata": {},
   "outputs": [],
   "source": []
  },
  {
   "cell_type": "markdown",
   "metadata": {},
   "source": [
    "<h2> Save our tuples into pickle files for later use</h2>"
   ]
  },
  {
   "cell_type": "code",
   "execution_count": 26,
   "metadata": {},
   "outputs": [],
   "source": [
    "with open('../input/test_tuple.pkl', 'wb') as file:\n",
    "    pickle.dump(test, file)"
   ]
  },
  {
   "cell_type": "code",
   "execution_count": 27,
   "metadata": {},
   "outputs": [],
   "source": [
    "with open('../input/train_tuple.pkl', 'wb') as file:\n",
    "    pickle.dump(train, file)"
   ]
  },
  {
   "cell_type": "code",
   "execution_count": 28,
   "metadata": {},
   "outputs": [],
   "source": [
    "with open('../input/valid_tuple.pkl', 'wb') as file:\n",
    "    pickle.dump(valid, file)"
   ]
  }
 ],
 "metadata": {
  "kernelspec": {
   "display_name": "Python 3",
   "language": "python",
   "name": "python3"
  },
  "language_info": {
   "codemirror_mode": {
    "name": "ipython",
    "version": 3
   },
   "file_extension": ".py",
   "mimetype": "text/x-python",
   "name": "python",
   "nbconvert_exporter": "python",
   "pygments_lexer": "ipython3",
   "version": "3.9.12"
  },
  "orig_nbformat": 4
 },
 "nbformat": 4,
 "nbformat_minor": 2
}
