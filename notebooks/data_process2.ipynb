{
 "cells": [
  {
   "cell_type": "code",
   "execution_count": 1,
   "metadata": {},
   "outputs": [],
   "source": [
    "import pandas as pd\n",
    "import numpy as np\n",
    "import json\n",
    "import sys \n",
    "from sklearn.metrics import accuracy_score, precision_score, recall_score, f1_score\n",
    "from sklearn.model_selection import train_test_split\n",
    "import plotly.express as px\n",
    "import itertools\n",
    "import optuna\n",
    "from lightgbm import LGBMClassifier\n",
    "from sklearn.preprocessing import StandardScaler, MinMaxScaler\n",
    "\n",
    "from joblib import Parallel, delayed, dump, load\n",
    "# sys.path.insert(0, '../DevCode')\n",
    "\n",
    "\n",
    "pd.set_option('display.expand_frame_repr', False)\n",
    "pd.options.display.max_rows = 500\n",
    "sys.path.append('../src')\n",
    "import pickle"
   ]
  },
  {
   "cell_type": "code",
   "execution_count": 2,
   "metadata": {},
   "outputs": [],
   "source": [
    "from DataManager import BetterTokenizer, Tokenizer\n",
    "tm = BetterTokenizer()"
   ]
  },
  {
   "cell_type": "code",
   "execution_count": 3,
   "metadata": {},
   "outputs": [],
   "source": [
    "df = pd.read_csv('../src/data/malicious_phish.csv')\n",
    "df = df.rename({'type':'target'},axis=1)"
   ]
  },
  {
   "cell_type": "code",
   "execution_count": 4,
   "metadata": {},
   "outputs": [],
   "source": [
    "df = df.sort_index(ascending=False)"
   ]
  },
  {
   "cell_type": "code",
   "execution_count": 5,
   "metadata": {},
   "outputs": [
    {
     "data": {
      "text/html": [
       "<div>\n",
       "<style scoped>\n",
       "    .dataframe tbody tr th:only-of-type {\n",
       "        vertical-align: middle;\n",
       "    }\n",
       "\n",
       "    .dataframe tbody tr th {\n",
       "        vertical-align: top;\n",
       "    }\n",
       "\n",
       "    .dataframe thead th {\n",
       "        text-align: right;\n",
       "    }\n",
       "</style>\n",
       "<table border=\"1\" class=\"dataframe\">\n",
       "  <thead>\n",
       "    <tr style=\"text-align: right;\">\n",
       "      <th></th>\n",
       "      <th>url</th>\n",
       "      <th>target</th>\n",
       "    </tr>\n",
       "  </thead>\n",
       "  <tbody>\n",
       "    <tr>\n",
       "      <th>651190</th>\n",
       "      <td>www.angelfire.com/goth/devilmaycrytonite/</td>\n",
       "      <td>phishing</td>\n",
       "    </tr>\n",
       "    <tr>\n",
       "      <th>651189</th>\n",
       "      <td>en.wikipedia.org/wiki/Dead_Space_(video_game)</td>\n",
       "      <td>phishing</td>\n",
       "    </tr>\n",
       "    <tr>\n",
       "      <th>651188</th>\n",
       "      <td>www.gamespot.com/xbox360/action/deadspace/</td>\n",
       "      <td>phishing</td>\n",
       "    </tr>\n",
       "    <tr>\n",
       "      <th>651187</th>\n",
       "      <td>games.teamxbox.com/xbox-360/1860/Dead-Space/</td>\n",
       "      <td>phishing</td>\n",
       "    </tr>\n",
       "    <tr>\n",
       "      <th>651186</th>\n",
       "      <td>xbox360.ign.com/objects/850/850402.html</td>\n",
       "      <td>phishing</td>\n",
       "    </tr>\n",
       "    <tr>\n",
       "      <th>...</th>\n",
       "      <td>...</td>\n",
       "      <td>...</td>\n",
       "    </tr>\n",
       "    <tr>\n",
       "      <th>4</th>\n",
       "      <td>http://adventure-nicaragua.net/index.php?optio...</td>\n",
       "      <td>defacement</td>\n",
       "    </tr>\n",
       "    <tr>\n",
       "      <th>3</th>\n",
       "      <td>http://www.garage-pirenne.be/index.php?option=...</td>\n",
       "      <td>defacement</td>\n",
       "    </tr>\n",
       "    <tr>\n",
       "      <th>2</th>\n",
       "      <td>bopsecrets.org/rexroth/cr/1.htm</td>\n",
       "      <td>benign</td>\n",
       "    </tr>\n",
       "    <tr>\n",
       "      <th>1</th>\n",
       "      <td>mp3raid.com/music/krizz_kaliko.html</td>\n",
       "      <td>benign</td>\n",
       "    </tr>\n",
       "    <tr>\n",
       "      <th>0</th>\n",
       "      <td>br-icloud.com.br</td>\n",
       "      <td>phishing</td>\n",
       "    </tr>\n",
       "  </tbody>\n",
       "</table>\n",
       "<p>651191 rows × 2 columns</p>\n",
       "</div>"
      ],
      "text/plain": [
       "                                                      url      target\n",
       "651190          www.angelfire.com/goth/devilmaycrytonite/    phishing\n",
       "651189      en.wikipedia.org/wiki/Dead_Space_(video_game)    phishing\n",
       "651188         www.gamespot.com/xbox360/action/deadspace/    phishing\n",
       "651187       games.teamxbox.com/xbox-360/1860/Dead-Space/    phishing\n",
       "651186            xbox360.ign.com/objects/850/850402.html    phishing\n",
       "...                                                   ...         ...\n",
       "4       http://adventure-nicaragua.net/index.php?optio...  defacement\n",
       "3       http://www.garage-pirenne.be/index.php?option=...  defacement\n",
       "2                         bopsecrets.org/rexroth/cr/1.htm      benign\n",
       "1                     mp3raid.com/music/krizz_kaliko.html      benign\n",
       "0                                        br-icloud.com.br    phishing\n",
       "\n",
       "[651191 rows x 2 columns]"
      ]
     },
     "execution_count": 5,
     "metadata": {},
     "output_type": "execute_result"
    }
   ],
   "source": [
    "df"
   ]
  },
  {
   "cell_type": "code",
   "execution_count": 6,
   "metadata": {},
   "outputs": [],
   "source": [
    "tokenized_url = tm.tokenize_column(df['url'])\n",
    "temp_df = df.copy()\n",
    "# nv = temp_df['tokens'].to_numpy()\n",
    "# last_tokens = [i[-1] for i in nv]\n",
    "# temp_df['last'] = last_tokens"
   ]
  },
  {
   "cell_type": "code",
   "execution_count": 7,
   "metadata": {},
   "outputs": [],
   "source": [
    "# tokenizer_state = {\n",
    "#     'token_to_id':tm.token_to_id,\n",
    "#     'id_to_token':tm.id_to_token,\n",
    "# }\n",
    "\n",
    "# with open('../code/data/token1.json', 'w') as f:\n",
    "#     json.dump(tokenizer_state, f)"
   ]
  },
  {
   "cell_type": "code",
   "execution_count": 8,
   "metadata": {},
   "outputs": [],
   "source": [
    "df['tokens'] = tokenized_url"
   ]
  },
  {
   "cell_type": "code",
   "execution_count": 9,
   "metadata": {},
   "outputs": [
    {
     "data": {
      "text/html": [
       "<div>\n",
       "<style scoped>\n",
       "    .dataframe tbody tr th:only-of-type {\n",
       "        vertical-align: middle;\n",
       "    }\n",
       "\n",
       "    .dataframe tbody tr th {\n",
       "        vertical-align: top;\n",
       "    }\n",
       "\n",
       "    .dataframe thead th {\n",
       "        text-align: right;\n",
       "    }\n",
       "</style>\n",
       "<table border=\"1\" class=\"dataframe\">\n",
       "  <thead>\n",
       "    <tr style=\"text-align: right;\">\n",
       "      <th></th>\n",
       "      <th>url</th>\n",
       "      <th>target</th>\n",
       "      <th>tokens</th>\n",
       "    </tr>\n",
       "  </thead>\n",
       "  <tbody>\n",
       "    <tr>\n",
       "      <th>651190</th>\n",
       "      <td>www.angelfire.com/goth/devilmaycrytonite/</td>\n",
       "      <td>phishing</td>\n",
       "      <td>[1, 2, 3, 2, 4, 5, 6, 5, 7, 5]</td>\n",
       "    </tr>\n",
       "    <tr>\n",
       "      <th>651189</th>\n",
       "      <td>en.wikipedia.org/wiki/Dead_Space_(video_game)</td>\n",
       "      <td>phishing</td>\n",
       "      <td>[8, 2, 9, 2, 10, 5, 11, 5, 12, 13, 14, 15]</td>\n",
       "    </tr>\n",
       "    <tr>\n",
       "      <th>651188</th>\n",
       "      <td>www.gamespot.com/xbox360/action/deadspace/</td>\n",
       "      <td>phishing</td>\n",
       "      <td>[1, 2, 16, 2, 4, 5, 17, 5, 18, 5, 19, 5]</td>\n",
       "    </tr>\n",
       "    <tr>\n",
       "      <th>651187</th>\n",
       "      <td>games.teamxbox.com/xbox-360/1860/Dead-Space/</td>\n",
       "      <td>phishing</td>\n",
       "      <td>[20, 2, 21, 2, 4, 5, 22, 23, 24, 5, 25, 5, 26,...</td>\n",
       "    </tr>\n",
       "    <tr>\n",
       "      <th>651186</th>\n",
       "      <td>xbox360.ign.com/objects/850/850402.html</td>\n",
       "      <td>phishing</td>\n",
       "      <td>[17, 2, 28, 2, 4, 5, 29, 5, 30, 5, 31, 2, 32]</td>\n",
       "    </tr>\n",
       "    <tr>\n",
       "      <th>...</th>\n",
       "      <td>...</td>\n",
       "      <td>...</td>\n",
       "      <td>...</td>\n",
       "    </tr>\n",
       "    <tr>\n",
       "      <th>4</th>\n",
       "      <td>http://adventure-nicaragua.net/index.php?optio...</td>\n",
       "      <td>defacement</td>\n",
       "      <td>[9500, 135, 5, 5, 97, 23, 167002, 2, 103, 5, 2...</td>\n",
       "    </tr>\n",
       "    <tr>\n",
       "      <th>3</th>\n",
       "      <td>http://www.garage-pirenne.be/index.php?option=...</td>\n",
       "      <td>defacement</td>\n",
       "      <td>[9500, 135, 5, 5, 1, 2, 71456, 23, 164934, 2, ...</td>\n",
       "    </tr>\n",
       "    <tr>\n",
       "      <th>2</th>\n",
       "      <td>bopsecrets.org/rexroth/cr/1.htm</td>\n",
       "      <td>benign</td>\n",
       "      <td>[627327, 2, 10, 5, 627328, 5, 19094, 5, 215, 2...</td>\n",
       "    </tr>\n",
       "    <tr>\n",
       "      <th>1</th>\n",
       "      <td>mp3raid.com/music/krizz_kaliko.html</td>\n",
       "      <td>benign</td>\n",
       "      <td>[169942, 2, 4, 5, 37803, 5, 280184, 2, 32]</td>\n",
       "    </tr>\n",
       "    <tr>\n",
       "      <th>0</th>\n",
       "      <td>br-icloud.com.br</td>\n",
       "      <td>phishing</td>\n",
       "      <td>[7073, 23, 76123, 2, 4, 2, 7073]</td>\n",
       "    </tr>\n",
       "  </tbody>\n",
       "</table>\n",
       "<p>651191 rows × 3 columns</p>\n",
       "</div>"
      ],
      "text/plain": [
       "                                                      url      target                                             tokens\n",
       "651190          www.angelfire.com/goth/devilmaycrytonite/    phishing                     [1, 2, 3, 2, 4, 5, 6, 5, 7, 5]\n",
       "651189      en.wikipedia.org/wiki/Dead_Space_(video_game)    phishing         [8, 2, 9, 2, 10, 5, 11, 5, 12, 13, 14, 15]\n",
       "651188         www.gamespot.com/xbox360/action/deadspace/    phishing           [1, 2, 16, 2, 4, 5, 17, 5, 18, 5, 19, 5]\n",
       "651187       games.teamxbox.com/xbox-360/1860/Dead-Space/    phishing  [20, 2, 21, 2, 4, 5, 22, 23, 24, 5, 25, 5, 26,...\n",
       "651186            xbox360.ign.com/objects/850/850402.html    phishing      [17, 2, 28, 2, 4, 5, 29, 5, 30, 5, 31, 2, 32]\n",
       "...                                                   ...         ...                                                ...\n",
       "4       http://adventure-nicaragua.net/index.php?optio...  defacement  [9500, 135, 5, 5, 97, 23, 167002, 2, 103, 5, 2...\n",
       "3       http://www.garage-pirenne.be/index.php?option=...  defacement  [9500, 135, 5, 5, 1, 2, 71456, 23, 164934, 2, ...\n",
       "2                         bopsecrets.org/rexroth/cr/1.htm      benign  [627327, 2, 10, 5, 627328, 5, 19094, 5, 215, 2...\n",
       "1                     mp3raid.com/music/krizz_kaliko.html      benign         [169942, 2, 4, 5, 37803, 5, 280184, 2, 32]\n",
       "0                                        br-icloud.com.br    phishing                   [7073, 23, 76123, 2, 4, 2, 7073]\n",
       "\n",
       "[651191 rows x 3 columns]"
      ]
     },
     "execution_count": 9,
     "metadata": {},
     "output_type": "execute_result"
    }
   ],
   "source": [
    "df"
   ]
  },
  {
   "cell_type": "code",
   "execution_count": 10,
   "metadata": {},
   "outputs": [
    {
     "data": {
      "text/plain": [
       "535037"
      ]
     },
     "execution_count": 10,
     "metadata": {},
     "output_type": "execute_result"
    }
   ],
   "source": [
    "df = df.drop(['url'],axis=1)\n",
    "df['sizes'] = [len(i) for i in df['tokens']]\n",
    "mean = df['sizes'].mean()\n",
    "std = df['sizes'].std()\n",
    "clipped_data = df[(df['sizes'] >= (mean - 2*std)) & (df['sizes'] <= (mean + 2*std))]\n",
    "data = df.loc[clipped_data.index]\n",
    "targets_df = df['target'].loc[clipped_data.index]\n",
    "\n",
    "max_length = 0\n",
    "\n",
    "for i in data['tokens'].values:\n",
    "    if len(i) > max_length:\n",
    "        max_length = len(i)\n",
    "vector_data = [np.array(i) for i in data['tokens'].values]\n",
    "\n",
    "matrix_list = []\n",
    "for i in vector_data:\n",
    "    new_vector = np.zeros(max_length)\n",
    "    current_vector_size = i.shape[0]\n",
    "    new_vector[:current_vector_size] = i\n",
    "    matrix_list.append(new_vector)\n",
    "\n",
    "matrix_main = np.vstack(matrix_list)\n",
    "\n",
    "target_list = []\n",
    "target_key_values = {\n",
    "    'benign':0,\n",
    "    'phishing':1,\n",
    "    'defacement':2,\n",
    "    'malware':3\n",
    "}\n",
    "for i in targets_df.values:\n",
    "    if i == 'benign':\n",
    "        target_list.append(0)\n",
    "    elif i == 'phishing':\n",
    "        target_list.append(1)\n",
    "    elif i == 'defacement':\n",
    "        target_list.append(2)\n",
    "    else:\n",
    "        target_list.append(3)\n",
    "data['target'] = target_list\n",
    "\n",
    "targets_vector = np.array(target_list)\n",
    "total_length = int(matrix_main.shape[0])\n",
    "ap = int(matrix_main.shape[0] * 0.7)\n",
    "\n",
    "valid_test_length = int((total_length - ap) / 2)\n",
    "\n",
    "valid_size = ap + valid_test_length\n",
    "valid_size"
   ]
  },
  {
   "cell_type": "code",
   "execution_count": 25,
   "metadata": {},
   "outputs": [],
   "source": [
    "train = (matrix_main[:ap], targets_vector[:ap])\n",
    "\n",
    "valid = (matrix_main[ap: valid_size], targets_vector[ap: valid_size])\n",
    "\n",
    "\n",
    "test = (matrix_main[valid_size : ], targets_vector[valid_size : ])"
   ]
  },
  {
   "cell_type": "code",
   "execution_count": 12,
   "metadata": {},
   "outputs": [],
   "source": [
    "scaler = MinMaxScaler(feature_range=(0,1))\n",
    "scaled_matrix = scaler.fit_transform(matrix_main)\n",
    "\n",
    "scaled_train = (scaled_matrix[:ap], targets_vector[:ap])\n",
    "\n",
    "scaled_valid = (scaled_matrix[ap: valid_size], targets_vector[ap: valid_size])\n",
    "\n",
    "scaled_test = (scaled_matrix[valid_size : ], targets_vector[valid_size : ])"
   ]
  },
  {
   "cell_type": "code",
   "execution_count": 17,
   "metadata": {},
   "outputs": [],
   "source": [
    "np.save('scaled_valid_train_features.npz', scaled_train[0])"
   ]
  },
  {
   "cell_type": "code",
   "execution_count": 22,
   "metadata": {},
   "outputs": [],
   "source": [
    "# np.savez_compressed('scaled_valid_train_features.npz',scaled_train[0])\n",
    "np.savez_compressed('../code/data/scaled_train_features.npz', a=scaled_train[0])\n",
    "np.savez_compressed('../code/data/scaled_train_labels.npz', a=scaled_train[1])"
   ]
  },
  {
   "cell_type": "code",
   "execution_count": 23,
   "metadata": {},
   "outputs": [],
   "source": [
    "np.savez_compressed('../code/data/scaled_valid_features.npz', a=scaled_valid[0])\n",
    "np.savez_compressed('../code/data/scaled_valid_labels.npz', a=scaled_valid[1])"
   ]
  },
  {
   "cell_type": "code",
   "execution_count": 24,
   "metadata": {},
   "outputs": [],
   "source": [
    "np.savez_compressed('../code/data/scaled_test_features.npz', a=scaled_test[0])\n",
    "np.savez_compressed('../code/data/scaled_test_labels.npz', a=scaled_test[1])"
   ]
  },
  {
   "cell_type": "code",
   "execution_count": null,
   "metadata": {},
   "outputs": [],
   "source": []
  },
  {
   "cell_type": "code",
   "execution_count": 16,
   "metadata": {},
   "outputs": [],
   "source": [
    "scaler = MinMaxScaler(feature_range=(0,1))\n",
    "scaled_matrix = scaler.fit_transform(matrix_main)\n",
    "\n",
    "scaled_train = (scaled_matrix[:ap], targets_vector[:ap])\n",
    "\n",
    "scaled_valid = (scaled_matrix[ap: valid_size], targets_vector[ap: valid_size])\n",
    "\n",
    "scaled_test = (scaled_matrix[valid_size : ], targets_vector[valid_size : ])\n",
    "\n",
    "with open('../code/data/scaled_test_tuple.pkl', 'wb') as file:\n",
    "    pickle.dump(scaled_test, file)\n",
    "with open('../code/data/scaled_train_tuple.pkl', 'wb') as file:\n",
    "    pickle.dump(scaled_train, file)\n",
    "with open('../code/data/scaled_valid_tuple.pkl', 'wb') as file:\n",
    "    pickle.dump(scaled_valid, file)"
   ]
  },
  {
   "cell_type": "code",
   "execution_count": 26,
   "metadata": {},
   "outputs": [],
   "source": [
    "np.savez_compressed('../code/data/train_features.npz', a=train[0])\n",
    "np.savez_compressed('../code/data/train_labels.npz', a=train[1])\n",
    "\n",
    "np.savez_compressed('../code/data/valid_features.npz', a=valid[0])\n",
    "np.savez_compressed('../code/data/valid_labels.npz', a=valid[1])\n",
    "\n",
    "np.savez_compressed('../code/data/test_features.npz', a=test[0])\n",
    "np.savez_compressed('../code/data/test_labels.npz', a=test[1])"
   ]
  },
  {
   "cell_type": "code",
   "execution_count": 315,
   "metadata": {},
   "outputs": [],
   "source": [
    "with open('../input/test_tuple.pkl', 'wb') as file:\n",
    "    pickle.dump(test, file)\n",
    "with open('../input/train_tuple.pkl', 'wb') as file:\n",
    "    pickle.dump(train, file)\n",
    "with open('../input/valid_tuple.pkl', 'wb') as file:\n",
    "    pickle.dump(valid, file)"
   ]
  },
  {
   "cell_type": "code",
   "execution_count": 160,
   "metadata": {},
   "outputs": [],
   "source": [
    "defaults_new = {\n",
    "    'boosting_type':['gbdt'],\n",
    "    'n_estimators':[150],\n",
    "    'max_depth':[3, 6],\n",
    "    'num_leaves':[6**2],\n",
    "    'min_child_samples':[2,10,25],\n",
    "    'subsample':[0.3, 0.5],\n",
    "    'colsample_bytree': [0.9],\n",
    "    'reg_alpha':[0.01],\n",
    "    'reg_lambda':[0.01],\n",
    "    'random_state': [5],\n",
    "    'verbosity':[-1],\n",
    "    'n_jobs':[2],\n",
    "    'subsample_freq':[1],\n",
    "    'learning_rate':[0.01, 0.005, 0.001],\n",
    "    'class_weight':[{0:0.2, 1:3, 2:0.5, 3:0.30}]\n",
    "    \n",
    "}"
   ]
  },
  {
   "cell_type": "code",
   "execution_count": 161,
   "metadata": {},
   "outputs": [],
   "source": [
    "combinations = itertools.product(*defaults_new.values())\n",
    "\n",
    "sub_dicts = [dict(zip(defaults_new.keys(), combo)) for combo in combinations]\n",
    "\n",
    "hypersearch_list = [LGBMClassifier(**params) for params in sub_dicts]"
   ]
  },
  {
   "cell_type": "code",
   "execution_count": null,
   "metadata": {},
   "outputs": [],
   "source": []
  },
  {
   "cell_type": "code",
   "execution_count": 162,
   "metadata": {},
   "outputs": [
    {
     "data": {
      "text/plain": [
       "36"
      ]
     },
     "execution_count": 162,
     "metadata": {},
     "output_type": "execute_result"
    }
   ],
   "source": [
    "len(hypersearch_list)"
   ]
  },
  {
   "cell_type": "code",
   "execution_count": 163,
   "metadata": {},
   "outputs": [],
   "source": [
    "X_train, y_train = train[0], train[1]\n",
    "X_val, y_val = valid[0], valid[1]\n",
    "X_test, y_test = test[0], test[1]"
   ]
  },
  {
   "cell_type": "code",
   "execution_count": 164,
   "metadata": {},
   "outputs": [],
   "source": [
    "# X_train = X_train[:, ::-1].copy()\n",
    "# X_val = X_val[:, ::-1].copy()\n",
    "# X_test = X_test[:, ::-1].copy()"
   ]
  },
  {
   "cell_type": "code",
   "execution_count": 165,
   "metadata": {},
   "outputs": [],
   "source": [
    "# X_train = X_train[:, -10:]\n",
    "# X_val = X_val[:, -10:]\n",
    "# X_test = X_test[:, -10:]"
   ]
  },
  {
   "cell_type": "code",
   "execution_count": 166,
   "metadata": {},
   "outputs": [
    {
     "data": {
      "text/plain": [
       "array([1., 2., 3., 2., 4., 5., 6., 5., 7., 5., 0., 0., 0., 0., 0., 0., 0.,\n",
       "       0., 0., 0., 0., 0., 0., 0., 0., 0., 0., 0., 0., 0., 0., 0., 0., 0.,\n",
       "       0., 0., 0., 0., 0., 0., 0., 0., 0., 0., 0., 0., 0.])"
      ]
     },
     "execution_count": 166,
     "metadata": {},
     "output_type": "execute_result"
    }
   ],
   "source": [
    "X_train[0]"
   ]
  },
  {
   "cell_type": "code",
   "execution_count": 167,
   "metadata": {},
   "outputs": [],
   "source": [
    "class Node:\n",
    "\n",
    "    def __init__(self, y_true_input, y_pred_input) -> None:\n",
    "        self.right = 0\n",
    "        self.wrong = 0\n",
    "        self.search(y_true_input=y_true_input, y_pred_input=y_pred_input)\n",
    "\n",
    "    def search(self, y_true_input, y_pred_input):\n",
    "        for t, p in zip(y_pred_input, y_pred_input):\n",
    "            if (t == 2) & (p == 2):\n",
    "                self.right += 1\n",
    "            elif (t != 0) & (p != 0):\n",
    "                self.right += 1\n",
    "            elif (t != 2) & (p == 0):\n",
    "                self.wrong += 1\n",
    "        #print(f'right {self.right} | wrong {self.wrong}')\n",
    "\n"
   ]
  },
  {
   "cell_type": "code",
   "execution_count": 168,
   "metadata": {},
   "outputs": [],
   "source": [
    "def training(input_model):\n",
    "    model = input_model\n",
    "    model.fit(X_train, y_train)\n",
    "    y_pred = model.predict(X_val)\n",
    "\n",
    "    score1 = accuracy_score(y_val, y_pred)\n",
    "    nd = Node(y_true_input=y_val, y_pred_input=y_pred)\n",
    "    score = nd.right / (nd.right + nd.wrong)\n",
    "\n",
    "\n",
    "\n",
    "    data_tuple = (score,  model.get_params(), model)\n",
    "\n",
    "    return data_tuple"
   ]
  },
  {
   "cell_type": "code",
   "execution_count": 169,
   "metadata": {},
   "outputs": [],
   "source": [
    "def run_multi_core():\n",
    "    results = Parallel(n_jobs=16)(delayed(training)(i) for i in hypersearch_list)\n",
    "    return results"
   ]
  },
  {
   "cell_type": "code",
   "execution_count": 170,
   "metadata": {},
   "outputs": [],
   "source": [
    "def create_df():\n",
    "    data_tuple = run_multi_core()\n",
    "    data = pd.DataFrame(data_tuple,\n",
    "                        columns=['total_score', 'params', 'model'])\n",
    "    data = data.sort_values(by='total_score', ascending=False)\n",
    "    return data"
   ]
  },
  {
   "cell_type": "code",
   "execution_count": 171,
   "metadata": {},
   "outputs": [],
   "source": [
    "results = create_df()"
   ]
  },
  {
   "cell_type": "code",
   "execution_count": 172,
   "metadata": {},
   "outputs": [
    {
     "data": {
      "text/html": [
       "<div>\n",
       "<style scoped>\n",
       "    .dataframe tbody tr th:only-of-type {\n",
       "        vertical-align: middle;\n",
       "    }\n",
       "\n",
       "    .dataframe tbody tr th {\n",
       "        vertical-align: top;\n",
       "    }\n",
       "\n",
       "    .dataframe thead th {\n",
       "        text-align: right;\n",
       "    }\n",
       "</style>\n",
       "<table border=\"1\" class=\"dataframe\">\n",
       "  <thead>\n",
       "    <tr style=\"text-align: right;\">\n",
       "      <th></th>\n",
       "      <th>total_score</th>\n",
       "      <th>params</th>\n",
       "      <th>model</th>\n",
       "    </tr>\n",
       "  </thead>\n",
       "  <tbody>\n",
       "    <tr>\n",
       "      <th>35</th>\n",
       "      <td>1.0</td>\n",
       "      <td>{'boosting_type': 'gbdt', 'class_weight': {0: ...</td>\n",
       "      <td>LGBMClassifier(class_weight={0: 0.2, 1: 3, 2: ...</td>\n",
       "    </tr>\n",
       "    <tr>\n",
       "      <th>8</th>\n",
       "      <td>1.0</td>\n",
       "      <td>{'boosting_type': 'gbdt', 'class_weight': {0: ...</td>\n",
       "      <td>LGBMClassifier(class_weight={0: 0.2, 1: 3, 2: ...</td>\n",
       "    </tr>\n",
       "    <tr>\n",
       "      <th>17</th>\n",
       "      <td>1.0</td>\n",
       "      <td>{'boosting_type': 'gbdt', 'class_weight': {0: ...</td>\n",
       "      <td>LGBMClassifier(class_weight={0: 0.2, 1: 3, 2: ...</td>\n",
       "    </tr>\n",
       "    <tr>\n",
       "      <th>23</th>\n",
       "      <td>1.0</td>\n",
       "      <td>{'boosting_type': 'gbdt', 'class_weight': {0: ...</td>\n",
       "      <td>LGBMClassifier(class_weight={0: 0.2, 1: 3, 2: ...</td>\n",
       "    </tr>\n",
       "    <tr>\n",
       "      <th>14</th>\n",
       "      <td>1.0</td>\n",
       "      <td>{'boosting_type': 'gbdt', 'class_weight': {0: ...</td>\n",
       "      <td>LGBMClassifier(class_weight={0: 0.2, 1: 3, 2: ...</td>\n",
       "    </tr>\n",
       "    <tr>\n",
       "      <th>11</th>\n",
       "      <td>1.0</td>\n",
       "      <td>{'boosting_type': 'gbdt', 'class_weight': {0: ...</td>\n",
       "      <td>LGBMClassifier(class_weight={0: 0.2, 1: 3, 2: ...</td>\n",
       "    </tr>\n",
       "    <tr>\n",
       "      <th>20</th>\n",
       "      <td>1.0</td>\n",
       "      <td>{'boosting_type': 'gbdt', 'class_weight': {0: ...</td>\n",
       "      <td>LGBMClassifier(class_weight={0: 0.2, 1: 3, 2: ...</td>\n",
       "    </tr>\n",
       "    <tr>\n",
       "      <th>26</th>\n",
       "      <td>1.0</td>\n",
       "      <td>{'boosting_type': 'gbdt', 'class_weight': {0: ...</td>\n",
       "      <td>LGBMClassifier(class_weight={0: 0.2, 1: 3, 2: ...</td>\n",
       "    </tr>\n",
       "    <tr>\n",
       "      <th>29</th>\n",
       "      <td>1.0</td>\n",
       "      <td>{'boosting_type': 'gbdt', 'class_weight': {0: ...</td>\n",
       "      <td>LGBMClassifier(class_weight={0: 0.2, 1: 3, 2: ...</td>\n",
       "    </tr>\n",
       "    <tr>\n",
       "      <th>5</th>\n",
       "      <td>1.0</td>\n",
       "      <td>{'boosting_type': 'gbdt', 'class_weight': {0: ...</td>\n",
       "      <td>LGBMClassifier(class_weight={0: 0.2, 1: 3, 2: ...</td>\n",
       "    </tr>\n",
       "  </tbody>\n",
       "</table>\n",
       "</div>"
      ],
      "text/plain": [
       "    total_score                                             params                                              model\n",
       "35          1.0  {'boosting_type': 'gbdt', 'class_weight': {0: ...  LGBMClassifier(class_weight={0: 0.2, 1: 3, 2: ...\n",
       "8           1.0  {'boosting_type': 'gbdt', 'class_weight': {0: ...  LGBMClassifier(class_weight={0: 0.2, 1: 3, 2: ...\n",
       "17          1.0  {'boosting_type': 'gbdt', 'class_weight': {0: ...  LGBMClassifier(class_weight={0: 0.2, 1: 3, 2: ...\n",
       "23          1.0  {'boosting_type': 'gbdt', 'class_weight': {0: ...  LGBMClassifier(class_weight={0: 0.2, 1: 3, 2: ...\n",
       "14          1.0  {'boosting_type': 'gbdt', 'class_weight': {0: ...  LGBMClassifier(class_weight={0: 0.2, 1: 3, 2: ...\n",
       "11          1.0  {'boosting_type': 'gbdt', 'class_weight': {0: ...  LGBMClassifier(class_weight={0: 0.2, 1: 3, 2: ...\n",
       "20          1.0  {'boosting_type': 'gbdt', 'class_weight': {0: ...  LGBMClassifier(class_weight={0: 0.2, 1: 3, 2: ...\n",
       "26          1.0  {'boosting_type': 'gbdt', 'class_weight': {0: ...  LGBMClassifier(class_weight={0: 0.2, 1: 3, 2: ...\n",
       "29          1.0  {'boosting_type': 'gbdt', 'class_weight': {0: ...  LGBMClassifier(class_weight={0: 0.2, 1: 3, 2: ...\n",
       "5           1.0  {'boosting_type': 'gbdt', 'class_weight': {0: ...  LGBMClassifier(class_weight={0: 0.2, 1: 3, 2: ..."
      ]
     },
     "execution_count": 172,
     "metadata": {},
     "output_type": "execute_result"
    }
   ],
   "source": [
    "results.head(10)"
   ]
  },
  {
   "cell_type": "code",
   "execution_count": 174,
   "metadata": {},
   "outputs": [
    {
     "data": {
      "text/html": [
       "<div>\n",
       "<style scoped>\n",
       "    .dataframe tbody tr th:only-of-type {\n",
       "        vertical-align: middle;\n",
       "    }\n",
       "\n",
       "    .dataframe tbody tr th {\n",
       "        vertical-align: top;\n",
       "    }\n",
       "\n",
       "    .dataframe thead th {\n",
       "        text-align: right;\n",
       "    }\n",
       "</style>\n",
       "<table border=\"1\" class=\"dataframe\">\n",
       "  <thead>\n",
       "    <tr style=\"text-align: right;\">\n",
       "      <th></th>\n",
       "      <th>total_score</th>\n",
       "      <th>params</th>\n",
       "      <th>model</th>\n",
       "    </tr>\n",
       "  </thead>\n",
       "  <tbody>\n",
       "    <tr>\n",
       "      <th>35</th>\n",
       "      <td>1.000000</td>\n",
       "      <td>{'boosting_type': 'gbdt', 'class_weight': {0: ...</td>\n",
       "      <td>LGBMClassifier(class_weight={0: 0.2, 1: 3, 2: ...</td>\n",
       "    </tr>\n",
       "    <tr>\n",
       "      <th>8</th>\n",
       "      <td>1.000000</td>\n",
       "      <td>{'boosting_type': 'gbdt', 'class_weight': {0: ...</td>\n",
       "      <td>LGBMClassifier(class_weight={0: 0.2, 1: 3, 2: ...</td>\n",
       "    </tr>\n",
       "    <tr>\n",
       "      <th>17</th>\n",
       "      <td>1.000000</td>\n",
       "      <td>{'boosting_type': 'gbdt', 'class_weight': {0: ...</td>\n",
       "      <td>LGBMClassifier(class_weight={0: 0.2, 1: 3, 2: ...</td>\n",
       "    </tr>\n",
       "    <tr>\n",
       "      <th>23</th>\n",
       "      <td>1.000000</td>\n",
       "      <td>{'boosting_type': 'gbdt', 'class_weight': {0: ...</td>\n",
       "      <td>LGBMClassifier(class_weight={0: 0.2, 1: 3, 2: ...</td>\n",
       "    </tr>\n",
       "    <tr>\n",
       "      <th>14</th>\n",
       "      <td>1.000000</td>\n",
       "      <td>{'boosting_type': 'gbdt', 'class_weight': {0: ...</td>\n",
       "      <td>LGBMClassifier(class_weight={0: 0.2, 1: 3, 2: ...</td>\n",
       "    </tr>\n",
       "    <tr>\n",
       "      <th>11</th>\n",
       "      <td>1.000000</td>\n",
       "      <td>{'boosting_type': 'gbdt', 'class_weight': {0: ...</td>\n",
       "      <td>LGBMClassifier(class_weight={0: 0.2, 1: 3, 2: ...</td>\n",
       "    </tr>\n",
       "    <tr>\n",
       "      <th>20</th>\n",
       "      <td>1.000000</td>\n",
       "      <td>{'boosting_type': 'gbdt', 'class_weight': {0: ...</td>\n",
       "      <td>LGBMClassifier(class_weight={0: 0.2, 1: 3, 2: ...</td>\n",
       "    </tr>\n",
       "    <tr>\n",
       "      <th>26</th>\n",
       "      <td>1.000000</td>\n",
       "      <td>{'boosting_type': 'gbdt', 'class_weight': {0: ...</td>\n",
       "      <td>LGBMClassifier(class_weight={0: 0.2, 1: 3, 2: ...</td>\n",
       "    </tr>\n",
       "    <tr>\n",
       "      <th>29</th>\n",
       "      <td>1.000000</td>\n",
       "      <td>{'boosting_type': 'gbdt', 'class_weight': {0: ...</td>\n",
       "      <td>LGBMClassifier(class_weight={0: 0.2, 1: 3, 2: ...</td>\n",
       "    </tr>\n",
       "    <tr>\n",
       "      <th>5</th>\n",
       "      <td>1.000000</td>\n",
       "      <td>{'boosting_type': 'gbdt', 'class_weight': {0: ...</td>\n",
       "      <td>LGBMClassifier(class_weight={0: 0.2, 1: 3, 2: ...</td>\n",
       "    </tr>\n",
       "    <tr>\n",
       "      <th>32</th>\n",
       "      <td>1.000000</td>\n",
       "      <td>{'boosting_type': 'gbdt', 'class_weight': {0: ...</td>\n",
       "      <td>LGBMClassifier(class_weight={0: 0.2, 1: 3, 2: ...</td>\n",
       "    </tr>\n",
       "    <tr>\n",
       "      <th>2</th>\n",
       "      <td>1.000000</td>\n",
       "      <td>{'boosting_type': 'gbdt', 'class_weight': {0: ...</td>\n",
       "      <td>LGBMClassifier(class_weight={0: 0.2, 1: 3, 2: ...</td>\n",
       "    </tr>\n",
       "    <tr>\n",
       "      <th>10</th>\n",
       "      <td>0.537302</td>\n",
       "      <td>{'boosting_type': 'gbdt', 'class_weight': {0: ...</td>\n",
       "      <td>LGBMClassifier(class_weight={0: 0.2, 1: 3, 2: ...</td>\n",
       "    </tr>\n",
       "    <tr>\n",
       "      <th>4</th>\n",
       "      <td>0.537302</td>\n",
       "      <td>{'boosting_type': 'gbdt', 'class_weight': {0: ...</td>\n",
       "      <td>LGBMClassifier(class_weight={0: 0.2, 1: 3, 2: ...</td>\n",
       "    </tr>\n",
       "    <tr>\n",
       "      <th>16</th>\n",
       "      <td>0.537302</td>\n",
       "      <td>{'boosting_type': 'gbdt', 'class_weight': {0: ...</td>\n",
       "      <td>LGBMClassifier(class_weight={0: 0.2, 1: 3, 2: ...</td>\n",
       "    </tr>\n",
       "    <tr>\n",
       "      <th>7</th>\n",
       "      <td>0.535555</td>\n",
       "      <td>{'boosting_type': 'gbdt', 'class_weight': {0: ...</td>\n",
       "      <td>LGBMClassifier(class_weight={0: 0.2, 1: 3, 2: ...</td>\n",
       "    </tr>\n",
       "    <tr>\n",
       "      <th>13</th>\n",
       "      <td>0.535555</td>\n",
       "      <td>{'boosting_type': 'gbdt', 'class_weight': {0: ...</td>\n",
       "      <td>LGBMClassifier(class_weight={0: 0.2, 1: 3, 2: ...</td>\n",
       "    </tr>\n",
       "    <tr>\n",
       "      <th>1</th>\n",
       "      <td>0.535555</td>\n",
       "      <td>{'boosting_type': 'gbdt', 'class_weight': {0: ...</td>\n",
       "      <td>LGBMClassifier(class_weight={0: 0.2, 1: 3, 2: ...</td>\n",
       "    </tr>\n",
       "    <tr>\n",
       "      <th>12</th>\n",
       "      <td>0.448389</td>\n",
       "      <td>{'boosting_type': 'gbdt', 'class_weight': {0: ...</td>\n",
       "      <td>LGBMClassifier(class_weight={0: 0.2, 1: 3, 2: ...</td>\n",
       "    </tr>\n",
       "    <tr>\n",
       "      <th>0</th>\n",
       "      <td>0.448368</td>\n",
       "      <td>{'boosting_type': 'gbdt', 'class_weight': {0: ...</td>\n",
       "      <td>LGBMClassifier(class_weight={0: 0.2, 1: 3, 2: ...</td>\n",
       "    </tr>\n",
       "    <tr>\n",
       "      <th>6</th>\n",
       "      <td>0.448368</td>\n",
       "      <td>{'boosting_type': 'gbdt', 'class_weight': {0: ...</td>\n",
       "      <td>LGBMClassifier(class_weight={0: 0.2, 1: 3, 2: ...</td>\n",
       "    </tr>\n",
       "    <tr>\n",
       "      <th>15</th>\n",
       "      <td>0.447648</td>\n",
       "      <td>{'boosting_type': 'gbdt', 'class_weight': {0: ...</td>\n",
       "      <td>LGBMClassifier(class_weight={0: 0.2, 1: 3, 2: ...</td>\n",
       "    </tr>\n",
       "    <tr>\n",
       "      <th>9</th>\n",
       "      <td>0.447404</td>\n",
       "      <td>{'boosting_type': 'gbdt', 'class_weight': {0: ...</td>\n",
       "      <td>LGBMClassifier(class_weight={0: 0.2, 1: 3, 2: ...</td>\n",
       "    </tr>\n",
       "    <tr>\n",
       "      <th>3</th>\n",
       "      <td>0.447404</td>\n",
       "      <td>{'boosting_type': 'gbdt', 'class_weight': {0: ...</td>\n",
       "      <td>LGBMClassifier(class_weight={0: 0.2, 1: 3, 2: ...</td>\n",
       "    </tr>\n",
       "    <tr>\n",
       "      <th>28</th>\n",
       "      <td>0.390752</td>\n",
       "      <td>{'boosting_type': 'gbdt', 'class_weight': {0: ...</td>\n",
       "      <td>LGBMClassifier(class_weight={0: 0.2, 1: 3, 2: ...</td>\n",
       "    </tr>\n",
       "    <tr>\n",
       "      <th>31</th>\n",
       "      <td>0.390731</td>\n",
       "      <td>{'boosting_type': 'gbdt', 'class_weight': {0: ...</td>\n",
       "      <td>LGBMClassifier(class_weight={0: 0.2, 1: 3, 2: ...</td>\n",
       "    </tr>\n",
       "    <tr>\n",
       "      <th>22</th>\n",
       "      <td>0.390720</td>\n",
       "      <td>{'boosting_type': 'gbdt', 'class_weight': {0: ...</td>\n",
       "      <td>LGBMClassifier(class_weight={0: 0.2, 1: 3, 2: ...</td>\n",
       "    </tr>\n",
       "    <tr>\n",
       "      <th>25</th>\n",
       "      <td>0.390688</td>\n",
       "      <td>{'boosting_type': 'gbdt', 'class_weight': {0: ...</td>\n",
       "      <td>LGBMClassifier(class_weight={0: 0.2, 1: 3, 2: ...</td>\n",
       "    </tr>\n",
       "    <tr>\n",
       "      <th>19</th>\n",
       "      <td>0.390656</td>\n",
       "      <td>{'boosting_type': 'gbdt', 'class_weight': {0: ...</td>\n",
       "      <td>LGBMClassifier(class_weight={0: 0.2, 1: 3, 2: ...</td>\n",
       "    </tr>\n",
       "    <tr>\n",
       "      <th>34</th>\n",
       "      <td>0.390603</td>\n",
       "      <td>{'boosting_type': 'gbdt', 'class_weight': {0: ...</td>\n",
       "      <td>LGBMClassifier(class_weight={0: 0.2, 1: 3, 2: ...</td>\n",
       "    </tr>\n",
       "    <tr>\n",
       "      <th>21</th>\n",
       "      <td>0.328211</td>\n",
       "      <td>{'boosting_type': 'gbdt', 'class_weight': {0: ...</td>\n",
       "      <td>LGBMClassifier(class_weight={0: 0.2, 1: 3, 2: ...</td>\n",
       "    </tr>\n",
       "    <tr>\n",
       "      <th>24</th>\n",
       "      <td>0.328190</td>\n",
       "      <td>{'boosting_type': 'gbdt', 'class_weight': {0: ...</td>\n",
       "      <td>LGBMClassifier(class_weight={0: 0.2, 1: 3, 2: ...</td>\n",
       "    </tr>\n",
       "    <tr>\n",
       "      <th>27</th>\n",
       "      <td>0.328126</td>\n",
       "      <td>{'boosting_type': 'gbdt', 'class_weight': {0: ...</td>\n",
       "      <td>LGBMClassifier(class_weight={0: 0.2, 1: 3, 2: ...</td>\n",
       "    </tr>\n",
       "    <tr>\n",
       "      <th>33</th>\n",
       "      <td>0.328115</td>\n",
       "      <td>{'boosting_type': 'gbdt', 'class_weight': {0: ...</td>\n",
       "      <td>LGBMClassifier(class_weight={0: 0.2, 1: 3, 2: ...</td>\n",
       "    </tr>\n",
       "    <tr>\n",
       "      <th>30</th>\n",
       "      <td>0.327988</td>\n",
       "      <td>{'boosting_type': 'gbdt', 'class_weight': {0: ...</td>\n",
       "      <td>LGBMClassifier(class_weight={0: 0.2, 1: 3, 2: ...</td>\n",
       "    </tr>\n",
       "    <tr>\n",
       "      <th>18</th>\n",
       "      <td>0.327660</td>\n",
       "      <td>{'boosting_type': 'gbdt', 'class_weight': {0: ...</td>\n",
       "      <td>LGBMClassifier(class_weight={0: 0.2, 1: 3, 2: ...</td>\n",
       "    </tr>\n",
       "  </tbody>\n",
       "</table>\n",
       "</div>"
      ],
      "text/plain": [
       "    total_score                                             params                                              model\n",
       "35     1.000000  {'boosting_type': 'gbdt', 'class_weight': {0: ...  LGBMClassifier(class_weight={0: 0.2, 1: 3, 2: ...\n",
       "8      1.000000  {'boosting_type': 'gbdt', 'class_weight': {0: ...  LGBMClassifier(class_weight={0: 0.2, 1: 3, 2: ...\n",
       "17     1.000000  {'boosting_type': 'gbdt', 'class_weight': {0: ...  LGBMClassifier(class_weight={0: 0.2, 1: 3, 2: ...\n",
       "23     1.000000  {'boosting_type': 'gbdt', 'class_weight': {0: ...  LGBMClassifier(class_weight={0: 0.2, 1: 3, 2: ...\n",
       "14     1.000000  {'boosting_type': 'gbdt', 'class_weight': {0: ...  LGBMClassifier(class_weight={0: 0.2, 1: 3, 2: ...\n",
       "11     1.000000  {'boosting_type': 'gbdt', 'class_weight': {0: ...  LGBMClassifier(class_weight={0: 0.2, 1: 3, 2: ...\n",
       "20     1.000000  {'boosting_type': 'gbdt', 'class_weight': {0: ...  LGBMClassifier(class_weight={0: 0.2, 1: 3, 2: ...\n",
       "26     1.000000  {'boosting_type': 'gbdt', 'class_weight': {0: ...  LGBMClassifier(class_weight={0: 0.2, 1: 3, 2: ...\n",
       "29     1.000000  {'boosting_type': 'gbdt', 'class_weight': {0: ...  LGBMClassifier(class_weight={0: 0.2, 1: 3, 2: ...\n",
       "5      1.000000  {'boosting_type': 'gbdt', 'class_weight': {0: ...  LGBMClassifier(class_weight={0: 0.2, 1: 3, 2: ...\n",
       "32     1.000000  {'boosting_type': 'gbdt', 'class_weight': {0: ...  LGBMClassifier(class_weight={0: 0.2, 1: 3, 2: ...\n",
       "2      1.000000  {'boosting_type': 'gbdt', 'class_weight': {0: ...  LGBMClassifier(class_weight={0: 0.2, 1: 3, 2: ...\n",
       "10     0.537302  {'boosting_type': 'gbdt', 'class_weight': {0: ...  LGBMClassifier(class_weight={0: 0.2, 1: 3, 2: ...\n",
       "4      0.537302  {'boosting_type': 'gbdt', 'class_weight': {0: ...  LGBMClassifier(class_weight={0: 0.2, 1: 3, 2: ...\n",
       "16     0.537302  {'boosting_type': 'gbdt', 'class_weight': {0: ...  LGBMClassifier(class_weight={0: 0.2, 1: 3, 2: ...\n",
       "7      0.535555  {'boosting_type': 'gbdt', 'class_weight': {0: ...  LGBMClassifier(class_weight={0: 0.2, 1: 3, 2: ...\n",
       "13     0.535555  {'boosting_type': 'gbdt', 'class_weight': {0: ...  LGBMClassifier(class_weight={0: 0.2, 1: 3, 2: ...\n",
       "1      0.535555  {'boosting_type': 'gbdt', 'class_weight': {0: ...  LGBMClassifier(class_weight={0: 0.2, 1: 3, 2: ...\n",
       "12     0.448389  {'boosting_type': 'gbdt', 'class_weight': {0: ...  LGBMClassifier(class_weight={0: 0.2, 1: 3, 2: ...\n",
       "0      0.448368  {'boosting_type': 'gbdt', 'class_weight': {0: ...  LGBMClassifier(class_weight={0: 0.2, 1: 3, 2: ...\n",
       "6      0.448368  {'boosting_type': 'gbdt', 'class_weight': {0: ...  LGBMClassifier(class_weight={0: 0.2, 1: 3, 2: ...\n",
       "15     0.447648  {'boosting_type': 'gbdt', 'class_weight': {0: ...  LGBMClassifier(class_weight={0: 0.2, 1: 3, 2: ...\n",
       "9      0.447404  {'boosting_type': 'gbdt', 'class_weight': {0: ...  LGBMClassifier(class_weight={0: 0.2, 1: 3, 2: ...\n",
       "3      0.447404  {'boosting_type': 'gbdt', 'class_weight': {0: ...  LGBMClassifier(class_weight={0: 0.2, 1: 3, 2: ...\n",
       "28     0.390752  {'boosting_type': 'gbdt', 'class_weight': {0: ...  LGBMClassifier(class_weight={0: 0.2, 1: 3, 2: ...\n",
       "31     0.390731  {'boosting_type': 'gbdt', 'class_weight': {0: ...  LGBMClassifier(class_weight={0: 0.2, 1: 3, 2: ...\n",
       "22     0.390720  {'boosting_type': 'gbdt', 'class_weight': {0: ...  LGBMClassifier(class_weight={0: 0.2, 1: 3, 2: ...\n",
       "25     0.390688  {'boosting_type': 'gbdt', 'class_weight': {0: ...  LGBMClassifier(class_weight={0: 0.2, 1: 3, 2: ...\n",
       "19     0.390656  {'boosting_type': 'gbdt', 'class_weight': {0: ...  LGBMClassifier(class_weight={0: 0.2, 1: 3, 2: ...\n",
       "34     0.390603  {'boosting_type': 'gbdt', 'class_weight': {0: ...  LGBMClassifier(class_weight={0: 0.2, 1: 3, 2: ...\n",
       "21     0.328211  {'boosting_type': 'gbdt', 'class_weight': {0: ...  LGBMClassifier(class_weight={0: 0.2, 1: 3, 2: ...\n",
       "24     0.328190  {'boosting_type': 'gbdt', 'class_weight': {0: ...  LGBMClassifier(class_weight={0: 0.2, 1: 3, 2: ...\n",
       "27     0.328126  {'boosting_type': 'gbdt', 'class_weight': {0: ...  LGBMClassifier(class_weight={0: 0.2, 1: 3, 2: ...\n",
       "33     0.328115  {'boosting_type': 'gbdt', 'class_weight': {0: ...  LGBMClassifier(class_weight={0: 0.2, 1: 3, 2: ...\n",
       "30     0.327988  {'boosting_type': 'gbdt', 'class_weight': {0: ...  LGBMClassifier(class_weight={0: 0.2, 1: 3, 2: ...\n",
       "18     0.327660  {'boosting_type': 'gbdt', 'class_weight': {0: ...  LGBMClassifier(class_weight={0: 0.2, 1: 3, 2: ..."
      ]
     },
     "execution_count": 174,
     "metadata": {},
     "output_type": "execute_result"
    }
   ],
   "source": [
    "results"
   ]
  },
  {
   "cell_type": "code",
   "execution_count": 152,
   "metadata": {},
   "outputs": [
    {
     "name": "stdout",
     "output_type": "stream",
     "text": [
      "{'boosting_type': 'gbdt', 'class_weight': {0: 0.2, 1: 3, 2: 0.5, 3: 0.3}, 'colsample_bytree': 0.9, 'importance_type': 'split', 'learning_rate': 0.001, 'max_depth': 34, 'min_child_samples': 25, 'min_child_weight': 0.001, 'min_split_gain': 0.0, 'n_estimators': 75, 'n_jobs': 2, 'num_leaves': 1156, 'objective': None, 'random_state': 5, 'reg_alpha': 0.01, 'reg_lambda': 0.01, 'silent': 'warn', 'subsample': 0.5, 'subsample_for_bin': 200000, 'subsample_freq': 1, 'verbosity': -1}\n",
      "{'boosting_type': 'gbdt', 'class_weight': {0: 0.2, 1: 3, 2: 0.5, 3: 0.3}, 'colsample_bytree': 0.9, 'importance_type': 'split', 'learning_rate': 0.001, 'max_depth': 6, 'min_child_samples': 25, 'min_child_weight': 0.001, 'min_split_gain': 0.0, 'n_estimators': 75, 'n_jobs': 2, 'num_leaves': 1156, 'objective': None, 'random_state': 5, 'reg_alpha': 0.01, 'reg_lambda': 0.01, 'silent': 'warn', 'subsample': 0.3, 'subsample_for_bin': 200000, 'subsample_freq': 1, 'verbosity': -1}\n",
      "{'boosting_type': 'gbdt', 'class_weight': {0: 0.2, 1: 3, 2: 0.5, 3: 0.3}, 'colsample_bytree': 0.9, 'importance_type': 'split', 'learning_rate': 0.001, 'max_depth': 21, 'min_child_samples': 10, 'min_child_weight': 0.001, 'min_split_gain': 0.0, 'n_estimators': 75, 'n_jobs': 2, 'num_leaves': 1156, 'objective': None, 'random_state': 5, 'reg_alpha': 0.01, 'reg_lambda': 0.01, 'silent': 'warn', 'subsample': 0.5, 'subsample_for_bin': 200000, 'subsample_freq': 1, 'verbosity': -1}\n",
      "{'boosting_type': 'gbdt', 'class_weight': {0: 0.2, 1: 3, 2: 0.5, 3: 0.3}, 'colsample_bytree': 0.9, 'importance_type': 'split', 'learning_rate': 0.001, 'max_depth': 21, 'min_child_samples': 10, 'min_child_weight': 0.001, 'min_split_gain': 0.0, 'n_estimators': 75, 'n_jobs': 2, 'num_leaves': 1156, 'objective': None, 'random_state': 5, 'reg_alpha': 0.01, 'reg_lambda': 0.01, 'silent': 'warn', 'subsample': 0.3, 'subsample_for_bin': 200000, 'subsample_freq': 1, 'verbosity': -1}\n",
      "{'boosting_type': 'gbdt', 'class_weight': {0: 0.2, 1: 3, 2: 0.5, 3: 0.3}, 'colsample_bytree': 0.9, 'importance_type': 'split', 'learning_rate': 0.001, 'max_depth': 21, 'min_child_samples': 2, 'min_child_weight': 0.001, 'min_split_gain': 0.0, 'n_estimators': 75, 'n_jobs': 2, 'num_leaves': 1156, 'objective': None, 'random_state': 5, 'reg_alpha': 0.01, 'reg_lambda': 0.01, 'silent': 'warn', 'subsample': 0.5, 'subsample_for_bin': 200000, 'subsample_freq': 1, 'verbosity': -1}\n",
      "{'boosting_type': 'gbdt', 'class_weight': {0: 0.2, 1: 3, 2: 0.5, 3: 0.3}, 'colsample_bytree': 0.9, 'importance_type': 'split', 'learning_rate': 0.001, 'max_depth': 21, 'min_child_samples': 25, 'min_child_weight': 0.001, 'min_split_gain': 0.0, 'n_estimators': 75, 'n_jobs': 2, 'num_leaves': 1156, 'objective': None, 'random_state': 5, 'reg_alpha': 0.01, 'reg_lambda': 0.01, 'silent': 'warn', 'subsample': 0.5, 'subsample_for_bin': 200000, 'subsample_freq': 1, 'verbosity': -1}\n",
      "{'boosting_type': 'gbdt', 'class_weight': {0: 0.2, 1: 3, 2: 0.5, 3: 0.3}, 'colsample_bytree': 0.9, 'importance_type': 'split', 'learning_rate': 0.001, 'max_depth': 34, 'min_child_samples': 2, 'min_child_weight': 0.001, 'min_split_gain': 0.0, 'n_estimators': 75, 'n_jobs': 2, 'num_leaves': 1156, 'objective': None, 'random_state': 5, 'reg_alpha': 0.01, 'reg_lambda': 0.01, 'silent': 'warn', 'subsample': 0.3, 'subsample_for_bin': 200000, 'subsample_freq': 1, 'verbosity': -1}\n",
      "{'boosting_type': 'gbdt', 'class_weight': {0: 0.2, 1: 3, 2: 0.5, 3: 0.3}, 'colsample_bytree': 0.9, 'importance_type': 'split', 'learning_rate': 0.001, 'max_depth': 21, 'min_child_samples': 2, 'min_child_weight': 0.001, 'min_split_gain': 0.0, 'n_estimators': 75, 'n_jobs': 2, 'num_leaves': 1156, 'objective': None, 'random_state': 5, 'reg_alpha': 0.01, 'reg_lambda': 0.01, 'silent': 'warn', 'subsample': 0.3, 'subsample_for_bin': 200000, 'subsample_freq': 1, 'verbosity': -1}\n",
      "{'boosting_type': 'gbdt', 'class_weight': {0: 0.2, 1: 3, 2: 0.5, 3: 0.3}, 'colsample_bytree': 0.9, 'importance_type': 'split', 'learning_rate': 0.001, 'max_depth': 34, 'min_child_samples': 2, 'min_child_weight': 0.001, 'min_split_gain': 0.0, 'n_estimators': 75, 'n_jobs': 2, 'num_leaves': 1156, 'objective': None, 'random_state': 5, 'reg_alpha': 0.01, 'reg_lambda': 0.01, 'silent': 'warn', 'subsample': 0.5, 'subsample_for_bin': 200000, 'subsample_freq': 1, 'verbosity': -1}\n",
      "{'boosting_type': 'gbdt', 'class_weight': {0: 0.2, 1: 3, 2: 0.5, 3: 0.3}, 'colsample_bytree': 0.9, 'importance_type': 'split', 'learning_rate': 0.001, 'max_depth': 34, 'min_child_samples': 10, 'min_child_weight': 0.001, 'min_split_gain': 0.0, 'n_estimators': 75, 'n_jobs': 2, 'num_leaves': 1156, 'objective': None, 'random_state': 5, 'reg_alpha': 0.01, 'reg_lambda': 0.01, 'silent': 'warn', 'subsample': 0.3, 'subsample_for_bin': 200000, 'subsample_freq': 1, 'verbosity': -1}\n"
     ]
    }
   ],
   "source": [
    "for i in range(10):\n",
    "    print(results.iloc[i].params)"
   ]
  },
  {
   "cell_type": "code",
   "execution_count": null,
   "metadata": {},
   "outputs": [],
   "source": []
  },
  {
   "cell_type": "code",
   "execution_count": 136,
   "metadata": {},
   "outputs": [
    {
     "data": {
      "text/plain": [
       "array([1, 1, 1, ..., 1, 1, 1])"
      ]
     },
     "execution_count": 136,
     "metadata": {},
     "output_type": "execute_result"
    }
   ],
   "source": [
    "results.iloc[0].model.predict(X_test)"
   ]
  },
  {
   "cell_type": "code",
   "execution_count": 173,
   "metadata": {},
   "outputs": [
    {
     "name": "stdout",
     "output_type": "stream",
     "text": [
      "0.0600514726908779\n",
      "right 94419 | wrong 0\n",
      "\n",
      "0.0600514726908779\n",
      "right 94419 | wrong 0\n",
      "\n",
      "0.0600514726908779\n",
      "right 94419 | wrong 0\n",
      "\n",
      "0.0600514726908779\n",
      "right 94419 | wrong 0\n",
      "\n",
      "0.0600514726908779\n",
      "right 94419 | wrong 0\n",
      "\n",
      "0.0600514726908779\n",
      "right 94419 | wrong 0\n",
      "\n",
      "0.0600514726908779\n",
      "right 94419 | wrong 0\n",
      "\n",
      "0.0600514726908779\n",
      "right 94419 | wrong 0\n",
      "\n",
      "0.0600514726908779\n",
      "right 94419 | wrong 0\n",
      "\n",
      "0.0600514726908779\n",
      "right 94419 | wrong 0\n",
      "\n",
      "0.0600514726908779\n",
      "right 94419 | wrong 0\n",
      "\n",
      "0.0600514726908779\n",
      "right 94419 | wrong 0\n",
      "\n",
      "0.6600472362554147\n",
      "right 50184 | wrong 44235\n",
      "\n",
      "0.6600472362554147\n",
      "right 50184 | wrong 44235\n",
      "\n",
      "0.6600472362554147\n",
      "right 50184 | wrong 44235\n",
      "\n",
      "0.6613817134263231\n",
      "right 50049 | wrong 44370\n",
      "\n",
      "0.6613817134263231\n",
      "right 50049 | wrong 44370\n",
      "\n",
      "0.6613817134263231\n",
      "right 50049 | wrong 44370\n",
      "\n",
      "0.7726199176013302\n",
      "right 41780 | wrong 52639\n",
      "\n",
      "0.7725457799807243\n",
      "right 41790 | wrong 52629\n",
      "\n",
      "0.7725457799807243\n",
      "right 41790 | wrong 52629\n",
      "\n",
      "0.7725245978034082\n",
      "right 41728 | wrong 52691\n",
      "\n",
      "0.7727470106652263\n",
      "right 41710 | wrong 52709\n",
      "\n",
      "0.7727470106652263\n",
      "right 41710 | wrong 52709\n",
      "\n",
      "0.8301930755462354\n",
      "right 36524 | wrong 57895\n",
      "\n",
      "0.8307967675997415\n",
      "right 36549 | wrong 57870\n",
      "\n",
      "0.8301718933689194\n",
      "right 36531 | wrong 57888\n",
      "\n",
      "0.8310191804615596\n",
      "right 36537 | wrong 57882\n",
      "\n",
      "0.8307438121564515\n",
      "right 36539 | wrong 57880\n",
      "\n",
      "0.8301083468369713\n",
      "right 36521 | wrong 57898\n",
      "\n",
      "0.9035575466802233\n",
      "right 30593 | wrong 63826\n",
      "\n",
      "0.9036528664781452\n",
      "right 30598 | wrong 63821\n",
      "\n",
      "0.9036740486554613\n",
      "right 30569 | wrong 63850\n",
      "\n",
      "0.9036846397441193\n",
      "right 30607 | wrong 63812\n",
      "\n",
      "0.9040129634925174\n",
      "right 30566 | wrong 63853\n",
      "\n",
      "0.9039600080492274\n",
      "right 30549 | wrong 63870\n",
      "\n"
     ]
    }
   ],
   "source": [
    "for i in range(len(hypersearch_list)):\n",
    "    y_pred = results.iloc[i].model.predict(X_test)\n",
    "    nd = Node(y_true_input=y_test, y_pred_input=y_pred)\n",
    "    print(accuracy_score(y_test, y_pred))\n",
    "    print(f'right {nd.right} | wrong {nd.wrong}')\n",
    "    print('')\n"
   ]
  },
  {
   "cell_type": "code",
   "execution_count": 177,
   "metadata": {},
   "outputs": [
    {
     "name": "stdout",
     "output_type": "stream",
     "text": [
      "right 50184 | wrong 44235\n"
     ]
    }
   ],
   "source": [
    "y_pred = results.iloc[13].model.predict(X_test)\n",
    "nd = Node(y_true_input=y_test, y_pred_input=y_pred)\n",
    "print(f'right {nd.right} | wrong {nd.wrong}')"
   ]
  },
  {
   "cell_type": "code",
   "execution_count": 275,
   "metadata": {},
   "outputs": [
    {
     "name": "stdout",
     "output_type": "stream",
     "text": [
      "right 94397 | wrong 22\n"
     ]
    }
   ],
   "source": [
    "y_pred = results.iloc[0].model.predict(X_test)\n",
    "nd = Node(y_true_input=y_test, y_pred_input=y_pred)\n",
    "print(f'right {nd.right} | wrong {nd.wrong}')"
   ]
  },
  {
   "cell_type": "code",
   "execution_count": 178,
   "metadata": {},
   "outputs": [
    {
     "data": {
      "text/plain": [
       "['../code/data/gb_model.joblib']"
      ]
     },
     "execution_count": 178,
     "metadata": {},
     "output_type": "execute_result"
    }
   ],
   "source": [
    "dump(results.iloc[13].model, '../code/data/gb_model.joblib')"
   ]
  },
  {
   "cell_type": "code",
   "execution_count": 138,
   "metadata": {},
   "outputs": [
    {
     "data": {
      "text/plain": [
       "0.36491595971149876"
      ]
     },
     "execution_count": 138,
     "metadata": {},
     "output_type": "execute_result"
    }
   ],
   "source": [
    "y_pred = results.iloc[2].model.predict(X_test)\n",
    "accuracy_score(y_test, y_pred)"
   ]
  },
  {
   "cell_type": "code",
   "execution_count": null,
   "metadata": {},
   "outputs": [],
   "source": []
  },
  {
   "cell_type": "code",
   "execution_count": 61,
   "metadata": {},
   "outputs": [
    {
     "data": {
      "text/plain": [
       "0.40089388788273544"
      ]
     },
     "execution_count": 61,
     "metadata": {},
     "output_type": "execute_result"
    }
   ],
   "source": [
    "accuracy_score(y_test, y_pred)"
   ]
  },
  {
   "cell_type": "code",
   "execution_count": 300,
   "metadata": {},
   "outputs": [],
   "source": [
    "valid = pd.read_pickle('../code/data/valid_tuple.pkl')\n",
    "train = pd.read_pickle('../code/data/train_tuple.pkl')\n",
    "test = pd.read_pickle('../code/data/test_tuple.pkl')"
   ]
  },
  {
   "cell_type": "code",
   "execution_count": 302,
   "metadata": {},
   "outputs": [
    {
     "data": {
      "text/plain": [
       "array([[1.00000e+00, 2.00000e+00, 3.00000e+00, ..., 0.00000e+00,\n",
       "        0.00000e+00, 0.00000e+00],\n",
       "       [6.00000e+00, 4.00000e+00, 5.00000e+00, ..., 0.00000e+00,\n",
       "        0.00000e+00, 0.00000e+00],\n",
       "       [1.10000e+01, 4.00000e+00, 1.20000e+01, ..., 0.00000e+00,\n",
       "        0.00000e+00, 0.00000e+00],\n",
       "       ...,\n",
       "       [2.39386e+05, 4.00000e+00, 1.19000e+02, ..., 0.00000e+00,\n",
       "        0.00000e+00, 0.00000e+00],\n",
       "       [3.46000e+02, 2.00000e+00, 8.16300e+03, ..., 0.00000e+00,\n",
       "        0.00000e+00, 0.00000e+00],\n",
       "       [3.46000e+02, 4.00000e+00, 5.00000e+00, ..., 0.00000e+00,\n",
       "        0.00000e+00, 0.00000e+00]])"
      ]
     },
     "execution_count": 302,
     "metadata": {},
     "output_type": "execute_result"
    }
   ],
   "source": [
    "train[0]"
   ]
  },
  {
   "cell_type": "code",
   "execution_count": null,
   "metadata": {},
   "outputs": [],
   "source": []
  }
 ],
 "metadata": {
  "kernelspec": {
   "display_name": "Python 3",
   "language": "python",
   "name": "python3"
  },
  "language_info": {
   "codemirror_mode": {
    "name": "ipython",
    "version": 3
   },
   "file_extension": ".py",
   "mimetype": "text/x-python",
   "name": "python",
   "nbconvert_exporter": "python",
   "pygments_lexer": "ipython3",
   "version": "3.9.12"
  },
  "orig_nbformat": 4
 },
 "nbformat": 4,
 "nbformat_minor": 2
}
