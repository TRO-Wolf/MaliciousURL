{
 "cells": [
  {
   "cell_type": "code",
   "execution_count": 2,
   "metadata": {},
   "outputs": [],
   "source": [
    "import pandas as pd\n",
    "import numpy as np\n",
    "import sys \n",
    "from sklearn.metrics import accuracy_score, precision_score, recall_score, f1_score\n",
    "from sklearn.model_selection import train_test_split\n",
    "import itertools\n",
    "from lightgbm import LGBMClassifier\n",
    "from xgboost import XGBClassifier\n",
    "\n",
    "from joblib import Parallel, delayed, dump, load\n",
    "# sys.path.insert(0, '../DevCode')\n",
    "\n",
    "\n",
    "pd.set_option('display.expand_frame_repr', False)\n",
    "pd.options.display.max_rows = 500\n",
    "sys.path.append('../code')\n",
    "import pickle"
   ]
  },
  {
   "cell_type": "markdown",
   "metadata": {},
   "source": [
    "<h2> Read from our Tuple Data </h2>"
   ]
  },
  {
   "cell_type": "code",
   "execution_count": 3,
   "metadata": {},
   "outputs": [],
   "source": [
    "valid = pd.read_pickle('../code/data/valid_tuple.pkl')\n",
    "train = pd.read_pickle('../code/data/train_tuple.pkl')\n"
   ]
  },
  {
   "cell_type": "code",
   "execution_count": null,
   "metadata": {},
   "outputs": [
    {
     "data": {
      "text/plain": [
       "array([1., 2., 3., 4., 5., 4., 1., 0., 0., 0., 0., 0., 0., 0., 0., 0., 0.,\n",
       "       0., 0., 0., 0., 0., 0., 0., 0., 0., 0., 0., 0., 0., 0., 0., 0., 0.,\n",
       "       0., 0., 0., 0., 0., 0., 0., 0., 0., 0., 0., 0., 0.])"
      ]
     },
     "execution_count": 4,
     "metadata": {},
     "output_type": "execute_result"
    }
   ],
   "source": [
    "train[0][0]"
   ]
  },
  {
   "cell_type": "code",
   "execution_count": 48,
   "metadata": {},
   "outputs": [
    {
     "data": {
      "text/plain": [
       "array([[1.00000e+00, 2.00000e+00, 3.00000e+00, ..., 0.00000e+00,\n",
       "        0.00000e+00, 0.00000e+00],\n",
       "       [6.00000e+00, 4.00000e+00, 5.00000e+00, ..., 0.00000e+00,\n",
       "        0.00000e+00, 0.00000e+00],\n",
       "       [1.10000e+01, 4.00000e+00, 1.20000e+01, ..., 0.00000e+00,\n",
       "        0.00000e+00, 0.00000e+00],\n",
       "       ...,\n",
       "       [2.39386e+05, 4.00000e+00, 1.19000e+02, ..., 0.00000e+00,\n",
       "        0.00000e+00, 0.00000e+00],\n",
       "       [3.46000e+02, 2.00000e+00, 8.16300e+03, ..., 0.00000e+00,\n",
       "        0.00000e+00, 0.00000e+00],\n",
       "       [3.46000e+02, 4.00000e+00, 5.00000e+00, ..., 0.00000e+00,\n",
       "        0.00000e+00, 0.00000e+00]])"
      ]
     },
     "execution_count": 48,
     "metadata": {},
     "output_type": "execute_result"
    }
   ],
   "source": [
    "train[0][:,]"
   ]
  },
  {
   "cell_type": "code",
   "execution_count": 153,
   "metadata": {},
   "outputs": [],
   "source": [
    "defaults_new = {\n",
    "    'boosting_type':['rf'],\n",
    "    'n_estimators':[75],\n",
    "    'max_depth':[8,13, 21, 34],\n",
    "    'num_leaves':[34**2],\n",
    "    'min_child_samples':[10,25,100],\n",
    "    'subsample':[0.98],\n",
    "    'colsample_bytree': [0.7],\n",
    "    'reg_alpha':[0.1, 0.3],\n",
    "    'reg_lambda':[0.1, 0.3],\n",
    "    'random_state': [5],\n",
    "    'verbosity':[-1],\n",
    "    'n_jobs':[1],\n",
    "    'subsample_freq':[1],\n",
    "    'learning_rate':[1.0],\n",
    "    'class_weight':[{0:0.1, 1:0.3, 2:0.3, 3:0.3}]\n",
    "    \n",
    "}"
   ]
  },
  {
   "cell_type": "code",
   "execution_count": 4,
   "metadata": {},
   "outputs": [],
   "source": [
    "defaults_new = {\n",
    "    'boosting_type':['rf'],\n",
    "    'n_estimators':[150],\n",
    "    'max_depth':[8,13, 21, 34],\n",
    "    'num_leaves':[34**2],\n",
    "    'min_child_samples':[10,25,100],\n",
    "    'subsample':[0.98],\n",
    "    'colsample_bytree': [0.7],\n",
    "    'reg_alpha':[0.1, 0.3],\n",
    "    'reg_lambda':[0.1, 0.3],\n",
    "    'random_state': [5],\n",
    "    'verbosity':[-1],\n",
    "    'n_jobs':[2],\n",
    "    'subsample_freq':[1],\n",
    "    'learning_rate':[1.0],\n",
    "    'class_weight':[{0:0.01, 1:0.35, 2:0.35, 3:0.35}]\n",
    "    \n",
    "}"
   ]
  },
  {
   "cell_type": "code",
   "execution_count": 59,
   "metadata": {},
   "outputs": [],
   "source": [
    "defaults_new = {\n",
    "    'boosting_type':['gbdt'],\n",
    "    # 'n_estimators':[250],\n",
    "    'n_estimators':[250],\n",
    "    'max_depth':[13],\n",
    "    'num_leaves':[13 **2],\n",
    "    'min_child_samples':[25],\n",
    "    'subsample':[0.99],\n",
    "    'subsample_freq':[1],\n",
    "    'colsample_bytree': [0.8],\n",
    "    # 'reg_alpha':[0.1],\n",
    "    # 'reg_lambda':[0.3],\n",
    "    'random_state': [5],\n",
    "    'verbosity':[-1],\n",
    "    'n_jobs':[2],\n",
    "    'learning_rate':[0.01, 0.1, 0.3],\n",
    "    # 'class_weight':[{0:0.25, 1:0.3, 2:0.3, 3:0.15}]\n",
    "    'class_weight':[{0:0.01, 1:0.65, 2:0.25, 3:0.10}]\n",
    "    \n",
    "}"
   ]
  },
  {
   "cell_type": "code",
   "execution_count": 60,
   "metadata": {},
   "outputs": [],
   "source": [
    "combinations = itertools.product(*defaults_new.values())\n",
    "\n",
    "sub_dicts = [dict(zip(defaults_new.keys(), combo)) for combo in combinations]\n",
    "\n",
    "hypersearch_list = [LGBMClassifier(**params) for params in sub_dicts]"
   ]
  },
  {
   "cell_type": "code",
   "execution_count": 105,
   "metadata": {},
   "outputs": [],
   "source": [
    "from sklearn.ensemble import AdaBoostClassifier \n",
    "from sklearn.tree import DecisionTreeClassifier\n",
    "import itertools\n",
    "\n",
    "defaults_new = {\n",
    "    'n_estimators': [50],  # Adjust the number of estimators as needed\n",
    "    'learning_rate': [0.01, 0.1],\n",
    "    'base_estimator': [DecisionTreeClassifier(max_depth=8), DecisionTreeClassifier(max_depth=21)],\n",
    "    # 'base_estimator': [base_model],\n",
    "    'random_state': [5],\n",
    "}\n",
    "\n",
    "# Create combinations of all possible parameters\n",
    "combinations = itertools.product(*defaults_new.values())\n",
    "\n",
    "# Combine the combinations with their values\n",
    "sub_dicts = [dict(zip(defaults_new.keys(), combo)) for combo in combinations]\n",
    "\n",
    "# Create a list of models to plug into the Parallel Joblib function\n",
    "hypersearch_list = [AdaBoostClassifier(**params) for params in sub_dicts]"
   ]
  },
  {
   "cell_type": "code",
   "execution_count": 84,
   "metadata": {},
   "outputs": [],
   "source": [
    "# defaults_new = {\n",
    "#     'n_estimators':[100, 150],\n",
    "#     'max_depth':[3,4,5,6,7],\n",
    "#     'subsample':[0.98],\n",
    "#     'colsample_bytree': [0.1,0.3],\n",
    "#     'colsample_bynode':[0.1,0.3],\n",
    "#     'learning_rate': [0.1, 0.3, 0.01],\n",
    "#     'random_state': [5],\n",
    "#     'n_jobs':[2]\n",
    "# }\n",
    "\n",
    "# #create combinations of all possible parameters\n",
    "# combinations = itertools.product(*defaults_new.values())\n",
    "\n",
    "# #combine the combinations with their values\n",
    "# sub_dicts = [dict(zip(defaults_new.keys(), combo)) for combo in combinations]\n",
    "\n",
    "# #create a list of models to plug into the Parallel Joblib function\n",
    "# hypersearch_list = [XGBClassifier(**params) for params in sub_dicts]"
   ]
  },
  {
   "cell_type": "code",
   "execution_count": 129,
   "metadata": {},
   "outputs": [
    {
     "data": {
      "text/plain": [
       "320"
      ]
     },
     "execution_count": 129,
     "metadata": {},
     "output_type": "execute_result"
    }
   ],
   "source": [
    "len(hypersearch_list)"
   ]
  },
  {
   "cell_type": "markdown",
   "metadata": {},
   "source": [
    "<h2> Split our Data into the Training and Validation Data </h2>"
   ]
  },
  {
   "cell_type": "code",
   "execution_count": 61,
   "metadata": {},
   "outputs": [],
   "source": [
    "X_train, y_train = train[0], train[1]\n",
    "X_test, y_test = valid[0], valid[1]"
   ]
  },
  {
   "cell_type": "code",
   "execution_count": 47,
   "metadata": {},
   "outputs": [
    {
     "data": {
      "text/plain": [
       "(440619, 47)"
      ]
     },
     "execution_count": 47,
     "metadata": {},
     "output_type": "execute_result"
    }
   ],
   "source": [
    "X_train.shape"
   ]
  },
  {
   "cell_type": "code",
   "execution_count": 48,
   "metadata": {},
   "outputs": [
    {
     "data": {
      "text/plain": [
       "array([1., 2., 3., 4., 5., 4., 1., 0., 0., 0., 0., 0., 0., 0., 0., 0., 0.,\n",
       "       0., 0., 0., 0., 0., 0., 0., 0., 0., 0., 0., 0., 0., 0., 0., 0., 0.,\n",
       "       0., 0., 0., 0., 0., 0., 0., 0., 0., 0., 0., 0., 0.])"
      ]
     },
     "execution_count": 48,
     "metadata": {},
     "output_type": "execute_result"
    }
   ],
   "source": [
    "X_train[0]"
   ]
  },
  {
   "cell_type": "code",
   "execution_count": null,
   "metadata": {},
   "outputs": [],
   "source": []
  },
  {
   "cell_type": "code",
   "execution_count": null,
   "metadata": {},
   "outputs": [],
   "source": []
  },
  {
   "cell_type": "code",
   "execution_count": 49,
   "metadata": {},
   "outputs": [
    {
     "data": {
      "text/plain": [
       "(440619,)"
      ]
     },
     "execution_count": 49,
     "metadata": {},
     "output_type": "execute_result"
    }
   ],
   "source": [
    "y_train.shape"
   ]
  },
  {
   "cell_type": "code",
   "execution_count": 50,
   "metadata": {},
   "outputs": [
    {
     "data": {
      "text/plain": [
       "array([[1.70000e+01, 1.80000e+01, 7.00000e+00, ..., 0.00000e+00,\n",
       "        0.00000e+00, 0.00000e+00],\n",
       "       [4.46852e+05, 4.00000e+00, 5.00000e+00, ..., 0.00000e+00,\n",
       "        0.00000e+00, 0.00000e+00],\n",
       "       [4.57000e+02, 4.00000e+00, 5.00000e+00, ..., 0.00000e+00,\n",
       "        0.00000e+00, 0.00000e+00],\n",
       "       ...,\n",
       "       [1.70000e+01, 1.80000e+01, 7.00000e+00, ..., 0.00000e+00,\n",
       "        0.00000e+00, 0.00000e+00],\n",
       "       [1.70000e+01, 1.80000e+01, 7.00000e+00, ..., 0.00000e+00,\n",
       "        0.00000e+00, 0.00000e+00],\n",
       "       [1.70000e+01, 1.80000e+01, 7.00000e+00, ..., 0.00000e+00,\n",
       "        0.00000e+00, 0.00000e+00]])"
      ]
     },
     "execution_count": 50,
     "metadata": {},
     "output_type": "execute_result"
    }
   ],
   "source": [
    "X_test"
   ]
  },
  {
   "cell_type": "markdown",
   "metadata": {},
   "source": [
    "<h2> Create a training method that will run each model. <br> \n",
    "Then the function append the scores for each fold and create a tuple of these values </h2>"
   ]
  },
  {
   "cell_type": "code",
   "execution_count": 62,
   "metadata": {},
   "outputs": [],
   "source": [
    "def training(input_model):\n",
    "    model = input_model\n",
    "    model.fit(X_train, y_train)\n",
    "    y_pred = model.predict(X_test)\n",
    "\n",
    "    score = accuracy_score(y_test, y_pred)\n",
    "\n",
    "\n",
    "    data_tuple = (score,  model.get_params(), model)\n",
    "\n",
    "    return data_tuple"
   ]
  },
  {
   "cell_type": "markdown",
   "metadata": {},
   "source": [
    "<h2> This method utilizes the Parallel library to train multiple models on multiple cores </h2>"
   ]
  },
  {
   "cell_type": "code",
   "execution_count": 63,
   "metadata": {},
   "outputs": [],
   "source": [
    "def run_multi_core():\n",
    "    results = Parallel(n_jobs=22)(delayed(training)(i) for i in hypersearch_list)\n",
    "    return results"
   ]
  },
  {
   "cell_type": "markdown",
   "metadata": {},
   "source": [
    "<h2> Creates a final dataframe based on the results obtained from the run_mulit_core function </h2>"
   ]
  },
  {
   "cell_type": "code",
   "execution_count": 64,
   "metadata": {},
   "outputs": [],
   "source": [
    "def create_df():\n",
    "    data_tuple = run_multi_core()\n",
    "    data = pd.DataFrame(data_tuple,\n",
    "                        columns=['total_score', 'params', 'model'])\n",
    "    data = data.sort_values(by='total_score', ascending=False)\n",
    "    return data"
   ]
  },
  {
   "cell_type": "code",
   "execution_count": 65,
   "metadata": {},
   "outputs": [],
   "source": [
    "results = create_df()"
   ]
  },
  {
   "cell_type": "code",
   "execution_count": 66,
   "metadata": {},
   "outputs": [
    {
     "data": {
      "text/html": [
       "<div>\n",
       "<style scoped>\n",
       "    .dataframe tbody tr th:only-of-type {\n",
       "        vertical-align: middle;\n",
       "    }\n",
       "\n",
       "    .dataframe tbody tr th {\n",
       "        vertical-align: top;\n",
       "    }\n",
       "\n",
       "    .dataframe thead th {\n",
       "        text-align: right;\n",
       "    }\n",
       "</style>\n",
       "<table border=\"1\" class=\"dataframe\">\n",
       "  <thead>\n",
       "    <tr style=\"text-align: right;\">\n",
       "      <th></th>\n",
       "      <th>total_score</th>\n",
       "      <th>params</th>\n",
       "      <th>model</th>\n",
       "    </tr>\n",
       "  </thead>\n",
       "  <tbody>\n",
       "    <tr>\n",
       "      <th>0</th>\n",
       "      <td>0.793069</td>\n",
       "      <td>{'boosting_type': 'gbdt', 'class_weight': {0: ...</td>\n",
       "      <td>LGBMClassifier(class_weight={0: 0.01, 1: 0.65,...</td>\n",
       "    </tr>\n",
       "    <tr>\n",
       "      <th>1</th>\n",
       "      <td>0.787170</td>\n",
       "      <td>{'boosting_type': 'gbdt', 'class_weight': {0: ...</td>\n",
       "      <td>LGBMClassifier(class_weight={0: 0.01, 1: 0.65,...</td>\n",
       "    </tr>\n",
       "    <tr>\n",
       "      <th>2</th>\n",
       "      <td>0.253204</td>\n",
       "      <td>{'boosting_type': 'gbdt', 'class_weight': {0: ...</td>\n",
       "      <td>LGBMClassifier(class_weight={0: 0.01, 1: 0.65,...</td>\n",
       "    </tr>\n",
       "  </tbody>\n",
       "</table>\n",
       "</div>"
      ],
      "text/plain": [
       "   total_score                                             params                                              model\n",
       "0     0.793069  {'boosting_type': 'gbdt', 'class_weight': {0: ...  LGBMClassifier(class_weight={0: 0.01, 1: 0.65,...\n",
       "1     0.787170  {'boosting_type': 'gbdt', 'class_weight': {0: ...  LGBMClassifier(class_weight={0: 0.01, 1: 0.65,...\n",
       "2     0.253204  {'boosting_type': 'gbdt', 'class_weight': {0: ...  LGBMClassifier(class_weight={0: 0.01, 1: 0.65,..."
      ]
     },
     "execution_count": 66,
     "metadata": {},
     "output_type": "execute_result"
    }
   ],
   "source": [
    "results.head(10)"
   ]
  },
  {
   "cell_type": "code",
   "execution_count": 161,
   "metadata": {},
   "outputs": [
    {
     "data": {
      "text/html": [
       "<div>\n",
       "<style scoped>\n",
       "    .dataframe tbody tr th:only-of-type {\n",
       "        vertical-align: middle;\n",
       "    }\n",
       "\n",
       "    .dataframe tbody tr th {\n",
       "        vertical-align: top;\n",
       "    }\n",
       "\n",
       "    .dataframe thead th {\n",
       "        text-align: right;\n",
       "    }\n",
       "</style>\n",
       "<table border=\"1\" class=\"dataframe\">\n",
       "  <thead>\n",
       "    <tr style=\"text-align: right;\">\n",
       "      <th></th>\n",
       "      <th>total_score</th>\n",
       "      <th>params</th>\n",
       "      <th>model</th>\n",
       "    </tr>\n",
       "  </thead>\n",
       "  <tbody>\n",
       "    <tr>\n",
       "      <th>39</th>\n",
       "      <td>0.794552</td>\n",
       "      <td>{'boosting_type': 'rf', 'class_weight': {0: 0....</td>\n",
       "      <td>LGBMClassifier(boosting_type='rf',\\n          ...</td>\n",
       "    </tr>\n",
       "    <tr>\n",
       "      <th>27</th>\n",
       "      <td>0.794234</td>\n",
       "      <td>{'boosting_type': 'rf', 'class_weight': {0: 0....</td>\n",
       "      <td>LGBMClassifier(boosting_type='rf',\\n          ...</td>\n",
       "    </tr>\n",
       "    <tr>\n",
       "      <th>37</th>\n",
       "      <td>0.793863</td>\n",
       "      <td>{'boosting_type': 'rf', 'class_weight': {0: 0....</td>\n",
       "      <td>LGBMClassifier(boosting_type='rf',\\n          ...</td>\n",
       "    </tr>\n",
       "    <tr>\n",
       "      <th>38</th>\n",
       "      <td>0.793429</td>\n",
       "      <td>{'boosting_type': 'rf', 'class_weight': {0: 0....</td>\n",
       "      <td>LGBMClassifier(boosting_type='rf',\\n          ...</td>\n",
       "    </tr>\n",
       "    <tr>\n",
       "      <th>25</th>\n",
       "      <td>0.793260</td>\n",
       "      <td>{'boosting_type': 'rf', 'class_weight': {0: 0....</td>\n",
       "      <td>LGBMClassifier(boosting_type='rf',\\n          ...</td>\n",
       "    </tr>\n",
       "    <tr>\n",
       "      <th>26</th>\n",
       "      <td>0.792815</td>\n",
       "      <td>{'boosting_type': 'rf', 'class_weight': {0: 0....</td>\n",
       "      <td>LGBMClassifier(boosting_type='rf',\\n          ...</td>\n",
       "    </tr>\n",
       "    <tr>\n",
       "      <th>36</th>\n",
       "      <td>0.792656</td>\n",
       "      <td>{'boosting_type': 'rf', 'class_weight': {0: 0....</td>\n",
       "      <td>LGBMClassifier(boosting_type='rf',\\n          ...</td>\n",
       "    </tr>\n",
       "    <tr>\n",
       "      <th>24</th>\n",
       "      <td>0.792063</td>\n",
       "      <td>{'boosting_type': 'rf', 'class_weight': {0: 0....</td>\n",
       "      <td>LGBMClassifier(boosting_type='rf',\\n          ...</td>\n",
       "    </tr>\n",
       "    <tr>\n",
       "      <th>43</th>\n",
       "      <td>0.790114</td>\n",
       "      <td>{'boosting_type': 'rf', 'class_weight': {0: 0....</td>\n",
       "      <td>LGBMClassifier(boosting_type='rf',\\n          ...</td>\n",
       "    </tr>\n",
       "    <tr>\n",
       "      <th>31</th>\n",
       "      <td>0.789860</td>\n",
       "      <td>{'boosting_type': 'rf', 'class_weight': {0: 0....</td>\n",
       "      <td>LGBMClassifier(boosting_type='rf',\\n          ...</td>\n",
       "    </tr>\n",
       "  </tbody>\n",
       "</table>\n",
       "</div>"
      ],
      "text/plain": [
       "    total_score                                             params                                              model\n",
       "39     0.794552  {'boosting_type': 'rf', 'class_weight': {0: 0....  LGBMClassifier(boosting_type='rf',\\n          ...\n",
       "27     0.794234  {'boosting_type': 'rf', 'class_weight': {0: 0....  LGBMClassifier(boosting_type='rf',\\n          ...\n",
       "37     0.793863  {'boosting_type': 'rf', 'class_weight': {0: 0....  LGBMClassifier(boosting_type='rf',\\n          ...\n",
       "38     0.793429  {'boosting_type': 'rf', 'class_weight': {0: 0....  LGBMClassifier(boosting_type='rf',\\n          ...\n",
       "25     0.793260  {'boosting_type': 'rf', 'class_weight': {0: 0....  LGBMClassifier(boosting_type='rf',\\n          ...\n",
       "26     0.792815  {'boosting_type': 'rf', 'class_weight': {0: 0....  LGBMClassifier(boosting_type='rf',\\n          ...\n",
       "36     0.792656  {'boosting_type': 'rf', 'class_weight': {0: 0....  LGBMClassifier(boosting_type='rf',\\n          ...\n",
       "24     0.792063  {'boosting_type': 'rf', 'class_weight': {0: 0....  LGBMClassifier(boosting_type='rf',\\n          ...\n",
       "43     0.790114  {'boosting_type': 'rf', 'class_weight': {0: 0....  LGBMClassifier(boosting_type='rf',\\n          ...\n",
       "31     0.789860  {'boosting_type': 'rf', 'class_weight': {0: 0....  LGBMClassifier(boosting_type='rf',\\n          ..."
      ]
     },
     "execution_count": 161,
     "metadata": {},
     "output_type": "execute_result"
    }
   ],
   "source": [
    "results.head(10)"
   ]
  },
  {
   "cell_type": "code",
   "execution_count": 57,
   "metadata": {},
   "outputs": [
    {
     "name": "stdout",
     "output_type": "stream",
     "text": [
      "{'boosting_type': 'gbdt', 'class_weight': {0: 0.01, 1: 0.55, 2: 0.35, 3: 0.1}, 'colsample_bytree': 0.8, 'importance_type': 'split', 'learning_rate': 0.01, 'max_depth': 13, 'min_child_samples': 25, 'min_child_weight': 0.001, 'min_split_gain': 0.0, 'n_estimators': 250, 'n_jobs': 2, 'num_leaves': 169, 'objective': None, 'random_state': 5, 'reg_alpha': 0.0, 'reg_lambda': 0.0, 'silent': 'warn', 'subsample': 0.99, 'subsample_for_bin': 200000, 'subsample_freq': 1, 'verbosity': -1}\n",
      "{'boosting_type': 'gbdt', 'class_weight': {0: 0.01, 1: 0.55, 2: 0.35, 3: 0.1}, 'colsample_bytree': 0.8, 'importance_type': 'split', 'learning_rate': 0.1, 'max_depth': 13, 'min_child_samples': 25, 'min_child_weight': 0.001, 'min_split_gain': 0.0, 'n_estimators': 250, 'n_jobs': 2, 'num_leaves': 169, 'objective': None, 'random_state': 5, 'reg_alpha': 0.0, 'reg_lambda': 0.0, 'silent': 'warn', 'subsample': 0.99, 'subsample_for_bin': 200000, 'subsample_freq': 1, 'verbosity': -1}\n",
      "{'boosting_type': 'gbdt', 'class_weight': {0: 0.01, 1: 0.55, 2: 0.35, 3: 0.1}, 'colsample_bytree': 0.8, 'importance_type': 'split', 'learning_rate': 0.3, 'max_depth': 13, 'min_child_samples': 25, 'min_child_weight': 0.001, 'min_split_gain': 0.0, 'n_estimators': 250, 'n_jobs': 2, 'num_leaves': 169, 'objective': None, 'random_state': 5, 'reg_alpha': 0.0, 'reg_lambda': 0.0, 'silent': 'warn', 'subsample': 0.99, 'subsample_for_bin': 200000, 'subsample_freq': 1, 'verbosity': -1}\n"
     ]
    }
   ],
   "source": [
    "for i in range(3):\n",
    "    print(results.iloc[i].params)"
   ]
  },
  {
   "cell_type": "code",
   "execution_count": 25,
   "metadata": {},
   "outputs": [],
   "source": [
    "import plotly.express as px"
   ]
  },
  {
   "cell_type": "code",
   "execution_count": 26,
   "metadata": {},
   "outputs": [],
   "source": [
    "test_model = results.iloc[0].model\n",
    "# test_model = r.iloc[0].model\n",
    "importances = test_model.feature_importances_"
   ]
  },
  {
   "cell_type": "code",
   "execution_count": 117,
   "metadata": {},
   "outputs": [
    {
     "data": {
      "text/plain": [
       "array([1.90156385e-02, 1.83054535e-02, 1.15067745e-04, 5.00527959e-03,\n",
       "       1.51960386e-01, 1.57798803e-02, 9.20609312e-02, 2.96231010e-02,\n",
       "       7.39764734e-02, 2.76702867e-02, 6.89769710e-02, 1.62568129e-02,\n",
       "       5.32629063e-02, 2.23914986e-02, 6.01130308e-02, 5.09845979e-02,\n",
       "       3.90125921e-02, 3.48167130e-02, 4.02578688e-02, 2.92617735e-02,\n",
       "       3.42149171e-02, 1.18992934e-02, 2.85921363e-02, 1.04954444e-02,\n",
       "       2.52177284e-02, 3.66939898e-03, 8.84396418e-03, 2.05280791e-03,\n",
       "       1.58225771e-02, 2.16120617e-03, 3.75424994e-03, 1.01647684e-03,\n",
       "       5.13393420e-04, 4.31040998e-04, 1.05521002e-03, 5.30934451e-04,\n",
       "       2.45927714e-04, 1.71059001e-05, 2.45261494e-05, 2.23121833e-04,\n",
       "       6.66131242e-05, 3.40830504e-05, 2.67756252e-05, 1.45737797e-04,\n",
       "       9.80320547e-05, 0.00000000e+00, 3.43209466e-08])"
      ]
     },
     "execution_count": 117,
     "metadata": {},
     "output_type": "execute_result"
    }
   ],
   "source": [
    "importances"
   ]
  },
  {
   "cell_type": "code",
   "execution_count": 140,
   "metadata": {},
   "outputs": [
    {
     "data": {
      "text/plain": [
       "47"
      ]
     },
     "execution_count": 140,
     "metadata": {},
     "output_type": "execute_result"
    }
   ],
   "source": [
    "test_model.n_features_in_"
   ]
  },
  {
   "cell_type": "code",
   "execution_count": 141,
   "metadata": {},
   "outputs": [],
   "source": [
    "dummy_cols = [f'index_{i}' for i in range(1, 48)]"
   ]
  },
  {
   "cell_type": "code",
   "execution_count": 125,
   "metadata": {},
   "outputs": [
    {
     "data": {
      "text/plain": [
       "47"
      ]
     },
     "execution_count": 125,
     "metadata": {},
     "output_type": "execute_result"
    }
   ],
   "source": [
    "len(dummy_cols)"
   ]
  },
  {
   "cell_type": "code",
   "execution_count": 142,
   "metadata": {},
   "outputs": [
    {
     "data": {
      "text/plain": [
       "['Column_0',\n",
       " 'Column_1',\n",
       " 'Column_2',\n",
       " 'Column_3',\n",
       " 'Column_4',\n",
       " 'Column_5',\n",
       " 'Column_6',\n",
       " 'Column_7',\n",
       " 'Column_8',\n",
       " 'Column_9',\n",
       " 'Column_10',\n",
       " 'Column_11',\n",
       " 'Column_12',\n",
       " 'Column_13',\n",
       " 'Column_14',\n",
       " 'Column_15',\n",
       " 'Column_16',\n",
       " 'Column_17',\n",
       " 'Column_18',\n",
       " 'Column_19',\n",
       " 'Column_20',\n",
       " 'Column_21',\n",
       " 'Column_22',\n",
       " 'Column_23',\n",
       " 'Column_24',\n",
       " 'Column_25',\n",
       " 'Column_26',\n",
       " 'Column_27',\n",
       " 'Column_28',\n",
       " 'Column_29',\n",
       " 'Column_30',\n",
       " 'Column_31',\n",
       " 'Column_32',\n",
       " 'Column_33',\n",
       " 'Column_34',\n",
       " 'Column_35',\n",
       " 'Column_36',\n",
       " 'Column_37',\n",
       " 'Column_38',\n",
       " 'Column_39',\n",
       " 'Column_40',\n",
       " 'Column_41',\n",
       " 'Column_42',\n",
       " 'Column_43',\n",
       " 'Column_44',\n",
       " 'Column_45',\n",
       " 'Column_46']"
      ]
     },
     "execution_count": 142,
     "metadata": {},
     "output_type": "execute_result"
    }
   ],
   "source": [
    "test_model.feature_name_"
   ]
  },
  {
   "cell_type": "code",
   "execution_count": null,
   "metadata": {},
   "outputs": [],
   "source": []
  },
  {
   "cell_type": "code",
   "execution_count": 143,
   "metadata": {},
   "outputs": [
    {
     "data": {
      "application/vnd.plotly.v1+json": {
       "config": {
        "plotlyServerURL": "https://plot.ly"
       },
       "data": [
        {
         "alignmentgroup": "True",
         "hovertemplate": "Importances=%{x}<br>Features=%{y}<extra></extra>",
         "legendgroup": "",
         "marker": {
          "color": "#636efa",
          "pattern": {
           "shape": ""
          }
         },
         "name": "",
         "offsetgroup": "",
         "orientation": "h",
         "showlegend": false,
         "textposition": "auto",
         "type": "bar",
         "x": [
          0,
          5,
          24,
          27,
          51,
          51,
          62,
          67,
          84,
          109,
          139,
          160,
          163,
          192,
          221,
          373,
          458,
          462,
          548,
          636,
          669,
          679,
          719,
          783,
          1009,
          1017,
          1202,
          1341,
          1367,
          1672,
          1706,
          1776,
          1777,
          1900,
          2093,
          2124,
          2325,
          2845,
          2995,
          4065,
          4930,
          6062,
          6387,
          6937,
          7218,
          9224,
          9679
         ],
         "xaxis": "x",
         "y": [
          "index_47",
          "index_46",
          "index_42",
          "index_45",
          "index_44",
          "index_43",
          "index_39",
          "index_41",
          "index_38",
          "index_40",
          "index_34",
          "index_37",
          "index_36",
          "index_35",
          "index_32",
          "index_33",
          "index_31",
          "index_30",
          "index_28",
          "index_26",
          "index_4",
          "index_2",
          "index_6",
          "index_29",
          "index_24",
          "index_27",
          "index_22",
          "index_25",
          "index_8",
          "index_20",
          "index_18",
          "index_23",
          "index_16",
          "index_10",
          "index_21",
          "index_12",
          "index_14",
          "index_19",
          "index_17",
          "index_15",
          "index_3",
          "index_13",
          "index_9",
          "index_11",
          "index_7",
          "index_1",
          "index_5"
         ],
         "yaxis": "y"
        }
       ],
       "layout": {
        "barmode": "relative",
        "height": 700,
        "legend": {
         "tracegroupgap": 0
        },
        "margin": {
         "t": 60
        },
        "template": {
         "data": {
          "bar": [
           {
            "error_x": {
             "color": "#f2f5fa"
            },
            "error_y": {
             "color": "#f2f5fa"
            },
            "marker": {
             "line": {
              "color": "rgb(17,17,17)",
              "width": 0.5
             },
             "pattern": {
              "fillmode": "overlay",
              "size": 10,
              "solidity": 0.2
             }
            },
            "type": "bar"
           }
          ],
          "barpolar": [
           {
            "marker": {
             "line": {
              "color": "rgb(17,17,17)",
              "width": 0.5
             },
             "pattern": {
              "fillmode": "overlay",
              "size": 10,
              "solidity": 0.2
             }
            },
            "type": "barpolar"
           }
          ],
          "carpet": [
           {
            "aaxis": {
             "endlinecolor": "#A2B1C6",
             "gridcolor": "#506784",
             "linecolor": "#506784",
             "minorgridcolor": "#506784",
             "startlinecolor": "#A2B1C6"
            },
            "baxis": {
             "endlinecolor": "#A2B1C6",
             "gridcolor": "#506784",
             "linecolor": "#506784",
             "minorgridcolor": "#506784",
             "startlinecolor": "#A2B1C6"
            },
            "type": "carpet"
           }
          ],
          "choropleth": [
           {
            "colorbar": {
             "outlinewidth": 0,
             "ticks": ""
            },
            "type": "choropleth"
           }
          ],
          "contour": [
           {
            "colorbar": {
             "outlinewidth": 0,
             "ticks": ""
            },
            "colorscale": [
             [
              0,
              "#0d0887"
             ],
             [
              0.1111111111111111,
              "#46039f"
             ],
             [
              0.2222222222222222,
              "#7201a8"
             ],
             [
              0.3333333333333333,
              "#9c179e"
             ],
             [
              0.4444444444444444,
              "#bd3786"
             ],
             [
              0.5555555555555556,
              "#d8576b"
             ],
             [
              0.6666666666666666,
              "#ed7953"
             ],
             [
              0.7777777777777778,
              "#fb9f3a"
             ],
             [
              0.8888888888888888,
              "#fdca26"
             ],
             [
              1,
              "#f0f921"
             ]
            ],
            "type": "contour"
           }
          ],
          "contourcarpet": [
           {
            "colorbar": {
             "outlinewidth": 0,
             "ticks": ""
            },
            "type": "contourcarpet"
           }
          ],
          "heatmap": [
           {
            "colorbar": {
             "outlinewidth": 0,
             "ticks": ""
            },
            "colorscale": [
             [
              0,
              "#0d0887"
             ],
             [
              0.1111111111111111,
              "#46039f"
             ],
             [
              0.2222222222222222,
              "#7201a8"
             ],
             [
              0.3333333333333333,
              "#9c179e"
             ],
             [
              0.4444444444444444,
              "#bd3786"
             ],
             [
              0.5555555555555556,
              "#d8576b"
             ],
             [
              0.6666666666666666,
              "#ed7953"
             ],
             [
              0.7777777777777778,
              "#fb9f3a"
             ],
             [
              0.8888888888888888,
              "#fdca26"
             ],
             [
              1,
              "#f0f921"
             ]
            ],
            "type": "heatmap"
           }
          ],
          "heatmapgl": [
           {
            "colorbar": {
             "outlinewidth": 0,
             "ticks": ""
            },
            "colorscale": [
             [
              0,
              "#0d0887"
             ],
             [
              0.1111111111111111,
              "#46039f"
             ],
             [
              0.2222222222222222,
              "#7201a8"
             ],
             [
              0.3333333333333333,
              "#9c179e"
             ],
             [
              0.4444444444444444,
              "#bd3786"
             ],
             [
              0.5555555555555556,
              "#d8576b"
             ],
             [
              0.6666666666666666,
              "#ed7953"
             ],
             [
              0.7777777777777778,
              "#fb9f3a"
             ],
             [
              0.8888888888888888,
              "#fdca26"
             ],
             [
              1,
              "#f0f921"
             ]
            ],
            "type": "heatmapgl"
           }
          ],
          "histogram": [
           {
            "marker": {
             "pattern": {
              "fillmode": "overlay",
              "size": 10,
              "solidity": 0.2
             }
            },
            "type": "histogram"
           }
          ],
          "histogram2d": [
           {
            "colorbar": {
             "outlinewidth": 0,
             "ticks": ""
            },
            "colorscale": [
             [
              0,
              "#0d0887"
             ],
             [
              0.1111111111111111,
              "#46039f"
             ],
             [
              0.2222222222222222,
              "#7201a8"
             ],
             [
              0.3333333333333333,
              "#9c179e"
             ],
             [
              0.4444444444444444,
              "#bd3786"
             ],
             [
              0.5555555555555556,
              "#d8576b"
             ],
             [
              0.6666666666666666,
              "#ed7953"
             ],
             [
              0.7777777777777778,
              "#fb9f3a"
             ],
             [
              0.8888888888888888,
              "#fdca26"
             ],
             [
              1,
              "#f0f921"
             ]
            ],
            "type": "histogram2d"
           }
          ],
          "histogram2dcontour": [
           {
            "colorbar": {
             "outlinewidth": 0,
             "ticks": ""
            },
            "colorscale": [
             [
              0,
              "#0d0887"
             ],
             [
              0.1111111111111111,
              "#46039f"
             ],
             [
              0.2222222222222222,
              "#7201a8"
             ],
             [
              0.3333333333333333,
              "#9c179e"
             ],
             [
              0.4444444444444444,
              "#bd3786"
             ],
             [
              0.5555555555555556,
              "#d8576b"
             ],
             [
              0.6666666666666666,
              "#ed7953"
             ],
             [
              0.7777777777777778,
              "#fb9f3a"
             ],
             [
              0.8888888888888888,
              "#fdca26"
             ],
             [
              1,
              "#f0f921"
             ]
            ],
            "type": "histogram2dcontour"
           }
          ],
          "mesh3d": [
           {
            "colorbar": {
             "outlinewidth": 0,
             "ticks": ""
            },
            "type": "mesh3d"
           }
          ],
          "parcoords": [
           {
            "line": {
             "colorbar": {
              "outlinewidth": 0,
              "ticks": ""
             }
            },
            "type": "parcoords"
           }
          ],
          "pie": [
           {
            "automargin": true,
            "type": "pie"
           }
          ],
          "scatter": [
           {
            "marker": {
             "line": {
              "color": "#283442"
             }
            },
            "type": "scatter"
           }
          ],
          "scatter3d": [
           {
            "line": {
             "colorbar": {
              "outlinewidth": 0,
              "ticks": ""
             }
            },
            "marker": {
             "colorbar": {
              "outlinewidth": 0,
              "ticks": ""
             }
            },
            "type": "scatter3d"
           }
          ],
          "scattercarpet": [
           {
            "marker": {
             "colorbar": {
              "outlinewidth": 0,
              "ticks": ""
             }
            },
            "type": "scattercarpet"
           }
          ],
          "scattergeo": [
           {
            "marker": {
             "colorbar": {
              "outlinewidth": 0,
              "ticks": ""
             }
            },
            "type": "scattergeo"
           }
          ],
          "scattergl": [
           {
            "marker": {
             "line": {
              "color": "#283442"
             }
            },
            "type": "scattergl"
           }
          ],
          "scattermapbox": [
           {
            "marker": {
             "colorbar": {
              "outlinewidth": 0,
              "ticks": ""
             }
            },
            "type": "scattermapbox"
           }
          ],
          "scatterpolar": [
           {
            "marker": {
             "colorbar": {
              "outlinewidth": 0,
              "ticks": ""
             }
            },
            "type": "scatterpolar"
           }
          ],
          "scatterpolargl": [
           {
            "marker": {
             "colorbar": {
              "outlinewidth": 0,
              "ticks": ""
             }
            },
            "type": "scatterpolargl"
           }
          ],
          "scatterternary": [
           {
            "marker": {
             "colorbar": {
              "outlinewidth": 0,
              "ticks": ""
             }
            },
            "type": "scatterternary"
           }
          ],
          "surface": [
           {
            "colorbar": {
             "outlinewidth": 0,
             "ticks": ""
            },
            "colorscale": [
             [
              0,
              "#0d0887"
             ],
             [
              0.1111111111111111,
              "#46039f"
             ],
             [
              0.2222222222222222,
              "#7201a8"
             ],
             [
              0.3333333333333333,
              "#9c179e"
             ],
             [
              0.4444444444444444,
              "#bd3786"
             ],
             [
              0.5555555555555556,
              "#d8576b"
             ],
             [
              0.6666666666666666,
              "#ed7953"
             ],
             [
              0.7777777777777778,
              "#fb9f3a"
             ],
             [
              0.8888888888888888,
              "#fdca26"
             ],
             [
              1,
              "#f0f921"
             ]
            ],
            "type": "surface"
           }
          ],
          "table": [
           {
            "cells": {
             "fill": {
              "color": "#506784"
             },
             "line": {
              "color": "rgb(17,17,17)"
             }
            },
            "header": {
             "fill": {
              "color": "#2a3f5f"
             },
             "line": {
              "color": "rgb(17,17,17)"
             }
            },
            "type": "table"
           }
          ]
         },
         "layout": {
          "annotationdefaults": {
           "arrowcolor": "#f2f5fa",
           "arrowhead": 0,
           "arrowwidth": 1
          },
          "autotypenumbers": "strict",
          "coloraxis": {
           "colorbar": {
            "outlinewidth": 0,
            "ticks": ""
           }
          },
          "colorscale": {
           "diverging": [
            [
             0,
             "#8e0152"
            ],
            [
             0.1,
             "#c51b7d"
            ],
            [
             0.2,
             "#de77ae"
            ],
            [
             0.3,
             "#f1b6da"
            ],
            [
             0.4,
             "#fde0ef"
            ],
            [
             0.5,
             "#f7f7f7"
            ],
            [
             0.6,
             "#e6f5d0"
            ],
            [
             0.7,
             "#b8e186"
            ],
            [
             0.8,
             "#7fbc41"
            ],
            [
             0.9,
             "#4d9221"
            ],
            [
             1,
             "#276419"
            ]
           ],
           "sequential": [
            [
             0,
             "#0d0887"
            ],
            [
             0.1111111111111111,
             "#46039f"
            ],
            [
             0.2222222222222222,
             "#7201a8"
            ],
            [
             0.3333333333333333,
             "#9c179e"
            ],
            [
             0.4444444444444444,
             "#bd3786"
            ],
            [
             0.5555555555555556,
             "#d8576b"
            ],
            [
             0.6666666666666666,
             "#ed7953"
            ],
            [
             0.7777777777777778,
             "#fb9f3a"
            ],
            [
             0.8888888888888888,
             "#fdca26"
            ],
            [
             1,
             "#f0f921"
            ]
           ],
           "sequentialminus": [
            [
             0,
             "#0d0887"
            ],
            [
             0.1111111111111111,
             "#46039f"
            ],
            [
             0.2222222222222222,
             "#7201a8"
            ],
            [
             0.3333333333333333,
             "#9c179e"
            ],
            [
             0.4444444444444444,
             "#bd3786"
            ],
            [
             0.5555555555555556,
             "#d8576b"
            ],
            [
             0.6666666666666666,
             "#ed7953"
            ],
            [
             0.7777777777777778,
             "#fb9f3a"
            ],
            [
             0.8888888888888888,
             "#fdca26"
            ],
            [
             1,
             "#f0f921"
            ]
           ]
          },
          "colorway": [
           "#636efa",
           "#EF553B",
           "#00cc96",
           "#ab63fa",
           "#FFA15A",
           "#19d3f3",
           "#FF6692",
           "#B6E880",
           "#FF97FF",
           "#FECB52"
          ],
          "font": {
           "color": "#f2f5fa"
          },
          "geo": {
           "bgcolor": "rgb(17,17,17)",
           "lakecolor": "rgb(17,17,17)",
           "landcolor": "rgb(17,17,17)",
           "showlakes": true,
           "showland": true,
           "subunitcolor": "#506784"
          },
          "hoverlabel": {
           "align": "left"
          },
          "hovermode": "closest",
          "mapbox": {
           "style": "dark"
          },
          "paper_bgcolor": "rgb(17,17,17)",
          "plot_bgcolor": "rgb(17,17,17)",
          "polar": {
           "angularaxis": {
            "gridcolor": "#506784",
            "linecolor": "#506784",
            "ticks": ""
           },
           "bgcolor": "rgb(17,17,17)",
           "radialaxis": {
            "gridcolor": "#506784",
            "linecolor": "#506784",
            "ticks": ""
           }
          },
          "scene": {
           "xaxis": {
            "backgroundcolor": "rgb(17,17,17)",
            "gridcolor": "#506784",
            "gridwidth": 2,
            "linecolor": "#506784",
            "showbackground": true,
            "ticks": "",
            "zerolinecolor": "#C8D4E3"
           },
           "yaxis": {
            "backgroundcolor": "rgb(17,17,17)",
            "gridcolor": "#506784",
            "gridwidth": 2,
            "linecolor": "#506784",
            "showbackground": true,
            "ticks": "",
            "zerolinecolor": "#C8D4E3"
           },
           "zaxis": {
            "backgroundcolor": "rgb(17,17,17)",
            "gridcolor": "#506784",
            "gridwidth": 2,
            "linecolor": "#506784",
            "showbackground": true,
            "ticks": "",
            "zerolinecolor": "#C8D4E3"
           }
          },
          "shapedefaults": {
           "line": {
            "color": "#f2f5fa"
           }
          },
          "sliderdefaults": {
           "bgcolor": "#C8D4E3",
           "bordercolor": "rgb(17,17,17)",
           "borderwidth": 1,
           "tickwidth": 0
          },
          "ternary": {
           "aaxis": {
            "gridcolor": "#506784",
            "linecolor": "#506784",
            "ticks": ""
           },
           "baxis": {
            "gridcolor": "#506784",
            "linecolor": "#506784",
            "ticks": ""
           },
           "bgcolor": "rgb(17,17,17)",
           "caxis": {
            "gridcolor": "#506784",
            "linecolor": "#506784",
            "ticks": ""
           }
          },
          "title": {
           "x": 0.05
          },
          "updatemenudefaults": {
           "bgcolor": "#506784",
           "borderwidth": 0
          },
          "xaxis": {
           "automargin": true,
           "gridcolor": "#283442",
           "linecolor": "#506784",
           "ticks": "",
           "title": {
            "standoff": 15
           },
           "zerolinecolor": "#283442",
           "zerolinewidth": 2
          },
          "yaxis": {
           "automargin": true,
           "gridcolor": "#283442",
           "linecolor": "#506784",
           "ticks": "",
           "title": {
            "standoff": 15
           },
           "zerolinecolor": "#283442",
           "zerolinewidth": 2
          }
         }
        },
        "width": 1200,
        "xaxis": {
         "anchor": "y",
         "domain": [
          0,
          1
         ],
         "title": {
          "text": "Importances"
         }
        },
        "yaxis": {
         "anchor": "x",
         "domain": [
          0,
          1
         ],
         "title": {
          "text": "Features"
         }
        }
       }
      }
     },
     "metadata": {},
     "output_type": "display_data"
    }
   ],
   "source": [
    "test_model = results.iloc[0].model\n",
    "# test_model = r.iloc[0].model\n",
    "importances = test_model.feature_importances_\n",
    "# features = test_model.feature_name_\n",
    "features = dummy_cols\n",
    "\n",
    "plot_df = pd.DataFrame({'Features':features, 'Importances':importances})\n",
    "plot_df = plot_df.sort_values(by='Importances', ascending=True)\n",
    "\n",
    "\n",
    "fig = px.bar(plot_df, x='Importances', y='Features', template='plotly_dark',width=1200, height=700)\n",
    "fig"
   ]
  },
  {
   "cell_type": "code",
   "execution_count": 27,
   "metadata": {},
   "outputs": [],
   "source": [
    "temporary_model = results.iloc[0].model"
   ]
  },
  {
   "cell_type": "code",
   "execution_count": 67,
   "metadata": {},
   "outputs": [
    {
     "data": {
      "text/plain": [
       "['../code/data/gb_model.joblib']"
      ]
     },
     "execution_count": 67,
     "metadata": {},
     "output_type": "execute_result"
    }
   ],
   "source": [
    "dump(results.iloc[0].model, '../code/data/gb_model.joblib')"
   ]
  },
  {
   "cell_type": "code",
   "execution_count": 88,
   "metadata": {},
   "outputs": [
    {
     "data": {
      "text/plain": [
       "['gb_model.joblib']"
      ]
     },
     "execution_count": 88,
     "metadata": {},
     "output_type": "execute_result"
    }
   ],
   "source": [
    "dump(results.iloc[0].model, 'gb_model.joblib')"
   ]
  },
  {
   "cell_type": "code",
   "execution_count": 21,
   "metadata": {},
   "outputs": [],
   "source": [
    "\n",
    "temporary_model.fit(X_train, y_train)\n",
    "y_pred = temporary_model.predict(X_test)"
   ]
  },
  {
   "cell_type": "code",
   "execution_count": null,
   "metadata": {},
   "outputs": [],
   "source": []
  },
  {
   "cell_type": "code",
   "execution_count": 22,
   "metadata": {},
   "outputs": [
    {
     "data": {
      "text/plain": [
       "array([2, 1, 0, ..., 3, 3, 3])"
      ]
     },
     "execution_count": 22,
     "metadata": {},
     "output_type": "execute_result"
    }
   ],
   "source": [
    "y_test"
   ]
  },
  {
   "cell_type": "code",
   "execution_count": 23,
   "metadata": {},
   "outputs": [
    {
     "data": {
      "text/plain": [
       "array([2, 1, 0, ..., 2, 2, 2])"
      ]
     },
     "execution_count": 23,
     "metadata": {},
     "output_type": "execute_result"
    }
   ],
   "source": [
    "y_pred"
   ]
  },
  {
   "cell_type": "code",
   "execution_count": null,
   "metadata": {},
   "outputs": [],
   "source": []
  },
  {
   "cell_type": "code",
   "execution_count": null,
   "metadata": {},
   "outputs": [],
   "source": []
  }
 ],
 "metadata": {
  "kernelspec": {
   "display_name": "Python 3",
   "language": "python",
   "name": "python3"
  },
  "language_info": {
   "codemirror_mode": {
    "name": "ipython",
    "version": 3
   },
   "file_extension": ".py",
   "mimetype": "text/x-python",
   "name": "python",
   "nbconvert_exporter": "python",
   "pygments_lexer": "ipython3",
   "version": "3.9.12"
  },
  "orig_nbformat": 4
 },
 "nbformat": 4,
 "nbformat_minor": 2
}
